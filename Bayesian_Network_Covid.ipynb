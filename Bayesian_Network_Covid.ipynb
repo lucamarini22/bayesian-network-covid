{
  "nbformat": 4,
  "nbformat_minor": 0,
  "metadata": {
    "kernelspec": {
      "display_name": "Python 3",
      "language": "python",
      "name": "python3"
    },
    "language_info": {
      "codemirror_mode": {
        "name": "ipython",
        "version": 3
      },
      "file_extension": ".py",
      "mimetype": "text/x-python",
      "name": "python",
      "nbconvert_exporter": "python",
      "pygments_lexer": "ipython3",
      "version": "3.6.10"
    },
    "colab": {
      "name": "Bayesian-Network-Covid.ipynb",
      "provenance": [],
      "collapsed_sections": []
    }
  },
  "cells": [
    {
      "cell_type": "code",
      "metadata": {
        "colab": {
          "base_uri": "https://localhost:8080/"
        },
        "id": "alRGL4Bdm2zB",
        "outputId": "1cd65f67-a649-470f-878b-7211d08ecf37"
      },
      "source": [
        "pip install pgmpy"
      ],
      "execution_count": 18,
      "outputs": [
        {
          "output_type": "stream",
          "text": [
            "Requirement already satisfied: pgmpy in /usr/local/lib/python3.7/dist-packages (0.1.13)\n",
            "Requirement already satisfied: torch in /usr/local/lib/python3.7/dist-packages (from pgmpy) (1.8.0+cu101)\n",
            "Requirement already satisfied: joblib in /usr/local/lib/python3.7/dist-packages (from pgmpy) (1.0.1)\n",
            "Requirement already satisfied: scipy in /usr/local/lib/python3.7/dist-packages (from pgmpy) (1.4.1)\n",
            "Requirement already satisfied: numpy in /usr/local/lib/python3.7/dist-packages (from pgmpy) (1.19.5)\n",
            "Requirement already satisfied: pandas in /usr/local/lib/python3.7/dist-packages (from pgmpy) (1.1.5)\n",
            "Requirement already satisfied: networkx in /usr/local/lib/python3.7/dist-packages (from pgmpy) (2.5)\n",
            "Requirement already satisfied: pyparsing in /usr/local/lib/python3.7/dist-packages (from pgmpy) (2.4.7)\n",
            "Requirement already satisfied: statsmodels in /usr/local/lib/python3.7/dist-packages (from pgmpy) (0.10.2)\n",
            "Requirement already satisfied: scikit-learn in /usr/local/lib/python3.7/dist-packages (from pgmpy) (0.22.2.post1)\n",
            "Requirement already satisfied: tqdm in /usr/local/lib/python3.7/dist-packages (from pgmpy) (4.41.1)\n",
            "Requirement already satisfied: typing-extensions in /usr/local/lib/python3.7/dist-packages (from torch->pgmpy) (3.7.4.3)\n",
            "Requirement already satisfied: pytz>=2017.2 in /usr/local/lib/python3.7/dist-packages (from pandas->pgmpy) (2018.9)\n",
            "Requirement already satisfied: python-dateutil>=2.7.3 in /usr/local/lib/python3.7/dist-packages (from pandas->pgmpy) (2.8.1)\n",
            "Requirement already satisfied: decorator>=4.3.0 in /usr/local/lib/python3.7/dist-packages (from networkx->pgmpy) (4.4.2)\n",
            "Requirement already satisfied: patsy>=0.4.0 in /usr/local/lib/python3.7/dist-packages (from statsmodels->pgmpy) (0.5.1)\n",
            "Requirement already satisfied: six>=1.5 in /usr/local/lib/python3.7/dist-packages (from python-dateutil>=2.7.3->pandas->pgmpy) (1.15.0)\n"
          ],
          "name": "stdout"
        }
      ]
    },
    {
      "cell_type": "code",
      "metadata": {
        "id": "vVkHioxLoQRL"
      },
      "source": [
        "# Import libraries\n",
        "from pgmpy.models import BayesianModel\n",
        "import matplotlib.pyplot as plt\n",
        "import networkx as nx\n",
        "import numpy as np\n",
        "from pgmpy.factors.discrete import TabularCPD\n",
        "import numpy as np"
      ],
      "execution_count": 19,
      "outputs": []
    },
    {
      "cell_type": "markdown",
      "metadata": {
        "id": "ftsUzEIjZtP5"
      },
      "source": [
        "Since 2020 Covid-19 spread all around the World. Many computer scientists supported by medical experts have developed online platforms in which it is possible to assess the percentage of being positive based on multiple factors.\n",
        "\n",
        "This project aims to recreate a simple online Covid-19 test that outputs the probability of being positive by leveraging a Bayesian Network.\n",
        "\n",
        "The Network is composed of seven boolean variables:\n",
        "\n",
        "- **Cough**: the user has a cough.\n",
        "- **Lost_Taste**: the user has lost taste.\n",
        "- **Over_Eighty**: the user is over 80 years old.\n",
        "- **Vaccinated**: the user is vaccinated.\n",
        "- **Live_With_Other_People**: the user lives with other people.\n",
        "- **Potential_Symptoms**: this variable is conditioned on Cough and Lost_Taste. It tells if the user has potential symptoms or not.    \n",
        "- **Positive_To_Covid**: this variable is used to model the positiveness of the user to the virus. It is directly conditioned on Vaccinated, Live_With_Other_People, and Potential_Symptoms variables."
      ]
    },
    {
      "cell_type": "code",
      "metadata": {
        "id": "-feszLAMoTzQ"
      },
      "source": [
        "model = BayesianModel([('Potential_Symptoms', 'Positive_To_Covid'),\n",
        "                       ('Live_With_Other_People', 'Positive_To_Covid'),\n",
        "                       ('Vaccinated', 'Positive_To_Covid'),\n",
        "                       ('Cough', 'Potential_Symptoms'),\n",
        "                       ('Fever', 'Potential_Symptoms'),\n",
        "                       ('Lost_Taste', 'Potential_Symptoms'),\n",
        "                       ('Over_Eighty', 'Vaccinated'),\n",
        "                       ('Over_Eighty', 'Live_With_Other_People')\n",
        "                       ])"
      ],
      "execution_count": 20,
      "outputs": []
    },
    {
      "cell_type": "code",
      "metadata": {
        "colab": {
          "base_uri": "https://localhost:8080/",
          "height": 575
        },
        "id": "ZrdCcrvmiZk6",
        "outputId": "d1733435-eac2-4554-aff1-79f85b47f0f8"
      },
      "source": [
        "# network nodes and out-edges\n",
        "nodes = list(model.nodes())\n",
        "edges = list(model.edges())\n",
        "\n",
        "DAG = nx.DiGraph()\n",
        "DAG.add_edges_from(edges)\n",
        "fig = plt.figure(figsize = (10,10))\n",
        "pos = nx.spring_layout(DAG) #Position nodes computed by using Fruchterman-Reingold force-directed algorithm.\n",
        "nx.draw_networkx_nodes(DAG, pos=pos, node_color='orange')\n",
        "nx.draw_networkx_labels(DAG, pos=pos)\n",
        "nx.draw_networkx_edges(DAG, pos=pos, edge_color='black', width = 2, arrows=True)\n",
        "plt.show()"
      ],
      "execution_count": 21,
      "outputs": [
        {
          "output_type": "display_data",
          "data": {
            "image/png": "[encoded data removed]",
            "text/plain": [
              "<Figure size 720x720 with 1 Axes>"
            ]
          },
          "metadata": {
            "tags": []
          }
        }
      ]
    },
    {
      "cell_type": "code",
      "metadata": {
        "id": "PEEfGZ--iZlH"
      },
      "source": [
        "# has not/has lost taste\n",
        "lost_taste_cdp = TabularCPD(variable='Lost_Taste', variable_card=2, \n",
        "                            values=[[0.9], [0.1]],\n",
        "                            state_names={'Lost_Taste': ['No', 'Yes']})\n",
        "\n",
        "# has not/has fever\n",
        "fever_cdp = TabularCPD(variable='Fever', variable_card=2, \n",
        "                            values=[[0.82], [0.18]],\n",
        "                            state_names={'Fever': ['No', 'Yes']})\n",
        "\n",
        "# hasn not/has cough\n",
        "cough_cpd = TabularCPD(variable='Cough', variable_card=2, values=[[0.75], [0.25]],\n",
        "                       state_names={'Cough': ['No', 'Yes']})\n",
        "\n",
        "# is not/is over eighty\n",
        "over_eighty_cpd = TabularCPD(variable='Over_Eighty', variable_card=2, \n",
        "                             values=[[0.85], [0.15]],\n",
        "                             state_names={'Over_Eighty': ['No', 'Yes']})\n",
        "\n",
        "# is not/is vaccinated given over eighty\n",
        "vaccinated_cpd = TabularCPD(variable='Vaccinated', variable_card=2, \n",
        "                            values=[[0.90, 0.30],\n",
        "                                    [0.10, 0.70]],\n",
        "                            evidence=['Over_Eighty'],\n",
        "                            evidence_card=[2],\n",
        "                            state_names={'Vaccinated': ['No', 'Yes'],\n",
        "                                         'Over_Eighty': ['No', 'Yes']})\n",
        "\n",
        "# live with other people\n",
        "live_with_other_people_cpd = TabularCPD(variable='Live_With_Other_People', \n",
        "                            variable_card=2, \n",
        "                            values=[[0.35, 0.42],\n",
        "                                    [0.65, 0.58]],\n",
        "                            evidence=['Over_Eighty'],\n",
        "                            evidence_card=[2],\n",
        "                            state_names={'Live_With_Other_People': ['No', 'Yes'],\n",
        "                                        'Over_Eighty': ['No', 'Yes']})\n",
        "\n",
        "# has potential symptoms\n",
        "symptoms_cpd = TabularCPD(variable='Potential_Symptoms', \n",
        "                            variable_card=2, \n",
        "                            values=[[0.90, 0.40, 0.80, 0.30, 0.25, 0.08, 0.15, 0.03],\n",
        "                                    [0.10, 0.60, 0.20, 0.70, 0.75, 0.92, 0.85, 0.97]],\n",
        "                            evidence=['Lost_Taste','Cough', 'Fever'],\n",
        "                            evidence_card=[2, 2, 2],\n",
        "                            state_names={'Lost_Taste': ['No', 'Yes'],\n",
        "                                         'Cough': ['No', 'Yes'],\n",
        "                                         'Fever': ['No', 'Yes'],\n",
        "                                         'Potential_Symptoms': ['No', 'Yes']})\n",
        "\n",
        "# is positive to Covid\n",
        "positive_to_covid_cpd = TabularCPD(variable='Positive_To_Covid', \n",
        "                            variable_card=2, \n",
        "                            values=[[0.80, 0.95, 0.25, 0.7, 0.65, 0.85, 0.05, 0.75],\n",
        "                                    [0.20, 0.05, 0.75, 0.3, 0.35, 0.15, 0.95, 0.25]],\n",
        "                            evidence=['Live_With_Other_People','Potential_Symptoms','Vaccinated'],\n",
        "                            evidence_card=[2, 2, 2],\n",
        "                            state_names={'Live_With_Other_People': ['No', 'Yes'],\n",
        "                                         'Potential_Symptoms': ['No', 'Yes'],\n",
        "                                         'Vaccinated': ['No', 'Yes'],\n",
        "                                         'Positive_To_Covid': ['No', 'Yes']})"
      ],
      "execution_count": 22,
      "outputs": []
    },
    {
      "cell_type": "code",
      "metadata": {
        "colab": {
          "base_uri": "https://localhost:8080/"
        },
        "id": "XapQGzO6aoIl",
        "outputId": "8a9b1822-f979-4e42-d139-9a5e99c5c435"
      },
      "source": [
        "model.add_cpds(lost_taste_cdp,\n",
        "               fever_cdp,\n",
        "               cough_cpd,\n",
        "               over_eighty_cpd,\n",
        "               vaccinated_cpd,\n",
        "               live_with_other_people_cpd,\n",
        "               symptoms_cpd,\n",
        "               positive_to_covid_cpd)\n",
        "model.check_model()"
      ],
      "execution_count": 23,
      "outputs": [
        {
          "output_type": "execute_result",
          "data": {
            "text/plain": [
              "True"
            ]
          },
          "metadata": {
            "tags": []
          },
          "execution_count": 23
        }
      ]
    },
    {
      "cell_type": "code",
      "metadata": {
        "colab": {
          "base_uri": "https://localhost:8080/"
        },
        "id": "HSRIVrPAEajZ",
        "outputId": "02d942f7-6788-4e87-afcf-fadfa79fad5c"
      },
      "source": [
        "print(lost_taste_cdp)\n",
        "print(fever_cdp)\n",
        "print(cough_cpd)\n",
        "print(over_eighty_cpd)\n",
        "print(vaccinated_cpd)\n",
        "print(live_with_other_people_cpd)\n",
        "print(symptoms_cpd)\n",
        "print(positive_to_covid_cpd)"
      ],
      "execution_count": 24,
      "outputs": [
        {
          "output_type": "stream",
          "text": [
            "+-----------------+-----+\n",
            "| Lost_Taste(No)  | 0.9 |\n",
            "+-----------------+-----+\n",
            "| Lost_Taste(Yes) | 0.1 |\n",
            "+-----------------+-----+\n",
            "+------------+------+\n",
            "| Fever(No)  | 0.82 |\n",
            "+------------+------+\n",
            "| Fever(Yes) | 0.18 |\n",
            "+------------+------+\n",
            "+------------+------+\n",
            "| Cough(No)  | 0.75 |\n",
            "+------------+------+\n",
            "| Cough(Yes) | 0.25 |\n",
            "+------------+------+\n",
            "+------------------+------+\n",
            "| Over_Eighty(No)  | 0.85 |\n",
            "+------------------+------+\n",
            "| Over_Eighty(Yes) | 0.15 |\n",
            "+------------------+------+\n",
            "+-----------------+-----------------+------------------+\n",
            "| Over_Eighty     | Over_Eighty(No) | Over_Eighty(Yes) |\n",
            "+-----------------+-----------------+------------------+\n",
            "| Vaccinated(No)  | 0.9             | 0.3              |\n",
            "+-----------------+-----------------+------------------+\n",
            "| Vaccinated(Yes) | 0.1             | 0.7              |\n",
            "+-----------------+-----------------+------------------+\n",
            "+-----------------------------+-----------------+------------------+\n",
            "| Over_Eighty                 | Over_Eighty(No) | Over_Eighty(Yes) |\n",
            "+-----------------------------+-----------------+------------------+\n",
            "| Live_With_Other_People(No)  | 0.35            | 0.42             |\n",
            "+-----------------------------+-----------------+------------------+\n",
            "| Live_With_Other_People(Yes) | 0.65            | 0.58             |\n",
            "+-----------------------------+-----------------+------------------+\n",
            "+-------------------------+----------------+----------------+----------------+----------------+-----------------+-----------------+-----------------+-----------------+\n",
            "| Lost_Taste              | Lost_Taste(No) | Lost_Taste(No) | Lost_Taste(No) | Lost_Taste(No) | Lost_Taste(Yes) | Lost_Taste(Yes) | Lost_Taste(Yes) | Lost_Taste(Yes) |\n",
            "+-------------------------+----------------+----------------+----------------+----------------+-----------------+-----------------+-----------------+-----------------+\n",
            "| Cough                   | Cough(No)      | Cough(No)      | Cough(Yes)     | Cough(Yes)     | Cough(No)       | Cough(No)       | Cough(Yes)      | Cough(Yes)      |\n",
            "+-------------------------+----------------+----------------+----------------+----------------+-----------------+-----------------+-----------------+-----------------+\n",
            "| Fever                   | Fever(No)      | Fever(Yes)     | Fever(No)      | Fever(Yes)     | Fever(No)       | Fever(Yes)      | Fever(No)       | Fever(Yes)      |\n",
            "+-------------------------+----------------+----------------+----------------+----------------+-----------------+-----------------+-----------------+-----------------+\n",
            "| Potential_Symptoms(No)  | 0.9            | 0.4            | 0.8            | 0.3            | 0.25            | 0.08            | 0.15            | 0.03            |\n",
            "+-------------------------+----------------+----------------+----------------+----------------+-----------------+-----------------+-----------------+-----------------+\n",
            "| Potential_Symptoms(Yes) | 0.1            | 0.6            | 0.2            | 0.7            | 0.75            | 0.92            | 0.85            | 0.97            |\n",
            "+-------------------------+----------------+----------------+----------------+----------------+-----------------+-----------------+-----------------+-----------------+\n",
            "+------------------------+----------------------------+----------------------------+----------------------------+----------------------------+-----------------------------+-----------------------------+-----------------------------+-----------------------------+\n",
            "| Live_With_Other_People | Live_With_Other_People(No) | Live_With_Other_People(No) | Live_With_Other_People(No) | Live_With_Other_People(No) | Live_With_Other_People(Yes) | Live_With_Other_People(Yes) | Live_With_Other_People(Yes) | Live_With_Other_People(Yes) |\n",
            "+------------------------+----------------------------+----------------------------+----------------------------+----------------------------+-----------------------------+-----------------------------+-----------------------------+-----------------------------+\n",
            "| Potential_Symptoms     | Potential_Symptoms(No)     | Potential_Symptoms(No)     | Potential_Symptoms(Yes)    | Potential_Symptoms(Yes)    | Potential_Symptoms(No)      | Potential_Symptoms(No)      | Potential_Symptoms(Yes)     | Potential_Symptoms(Yes)     |\n",
            "+------------------------+----------------------------+----------------------------+----------------------------+----------------------------+-----------------------------+-----------------------------+-----------------------------+-----------------------------+\n",
            "| Vaccinated             | Vaccinated(No)             | Vaccinated(Yes)            | Vaccinated(No)             | Vaccinated(Yes)            | Vaccinated(No)              | Vaccinated(Yes)             | Vaccinated(No)              | Vaccinated(Yes)             |\n",
            "+------------------------+----------------------------+----------------------------+----------------------------+----------------------------+-----------------------------+-----------------------------+-----------------------------+-----------------------------+\n",
            "| Positive_To_Covid(No)  | 0.8                        | 0.95                       | 0.25                       | 0.7                        | 0.65                        | 0.85                        | 0.05                        | 0.75                        |\n",
            "+------------------------+----------------------------+----------------------------+----------------------------+----------------------------+-----------------------------+-----------------------------+-----------------------------+-----------------------------+\n",
            "| Positive_To_Covid(Yes) | 0.2                        | 0.05                       | 0.75                       | 0.3                        | 0.35                        | 0.15                        | 0.95                        | 0.25                        |\n",
            "+------------------------+----------------------------+----------------------------+----------------------------+----------------------------+-----------------------------+-----------------------------+-----------------------------+-----------------------------+\n"
          ],
          "name": "stdout"
        }
      ]
    },
    {
      "cell_type": "code",
      "metadata": {
        "colab": {
          "base_uri": "https://localhost:8080/"
        },
        "id": "OnjvwvR0bVyt",
        "outputId": "1d933abf-77d8-4e64-a27e-137ef474dcd8"
      },
      "source": [
        "print(model.local_independencies('Vaccinated'))\n",
        "print(model.local_independencies('Potential_Symptoms'))\n",
        "print(model.local_independencies('Positive_To_Covid'))"
      ],
      "execution_count": 25,
      "outputs": [
        {
          "output_type": "stream",
          "text": [
            "(Vaccinated _|_ Lost_Taste, Fever, Potential_Symptoms, Cough, Live_With_Other_People | Over_Eighty)\n",
            "(Potential_Symptoms _|_ Vaccinated, Over_Eighty, Live_With_Other_People | Lost_Taste, Fever, Cough)\n",
            "(Positive_To_Covid _|_ Lost_Taste, Fever, Over_Eighty, Cough | Vaccinated, Potential_Symptoms, Live_With_Other_People)\n"
          ],
          "name": "stdout"
        }
      ]
    },
    {
      "cell_type": "code",
      "metadata": {
        "colab": {
          "base_uri": "https://localhost:8080/"
        },
        "id": "6QrMZqyZiZlI",
        "outputId": "65e35cbc-7f12-416f-be56-1ba54b6943b1"
      },
      "source": [
        "from pgmpy.inference import VariableElimination\n",
        "\n",
        "exact_inference = VariableElimination(model)\n",
        "\n",
        "# the prior probability distribution of Positive_To_Covid\n",
        "query1 = exact_inference.query(['Positive_To_Covid'])\n",
        "print('\\nP(Positive_To_Covid)\\n\\n', query1)"
      ],
      "execution_count": 26,
      "outputs": [
        {
          "output_type": "stream",
          "text": [
            "Finding Elimination Order: : 100%|██████████| 7/7 [00:00<00:00, 932.48it/s]\n",
            "Eliminating: Live_With_Other_People: 100%|██████████| 7/7 [00:00<00:00, 302.57it/s]"
          ],
          "name": "stderr"
        },
        {
          "output_type": "stream",
          "text": [
            "\n",
            "P(Positive_To_Covid)\n",
            "\n",
            " +------------------------+--------------------------+\n",
            "| Positive_To_Covid      |   phi(Positive_To_Covid) |\n",
            "+========================+==========================+\n",
            "| Positive_To_Covid(No)  |                   0.6010 |\n",
            "+------------------------+--------------------------+\n",
            "| Positive_To_Covid(Yes) |                   0.3990 |\n",
            "+------------------------+--------------------------+\n"
          ],
          "name": "stdout"
        },
        {
          "output_type": "stream",
          "text": [
            "\n"
          ],
          "name": "stderr"
        }
      ]
    },
    {
      "cell_type": "code",
      "metadata": {
        "colab": {
          "base_uri": "https://localhost:8080/"
        },
        "id": "Jks88u3giZlJ",
        "outputId": "18eb7a03-e66a-4e20-9822-0deb40682913"
      },
      "source": [
        "query2 = exact_inference.query(['Positive_To_Covid'],{'Potential_Symptoms':'Yes'})\n",
        "print('\\n\\nP( Positive_To_Covid | Potential_Symptoms = Yes )\\n\\n', query2)"
      ],
      "execution_count": 27,
      "outputs": [
        {
          "output_type": "stream",
          "text": [
            "Finding Elimination Order: : 100%|██████████| 6/6 [00:00<00:00, 1801.93it/s]\n",
            "Eliminating: Live_With_Other_People: 100%|██████████| 6/6 [00:00<00:00, 347.53it/s]"
          ],
          "name": "stderr"
        },
        {
          "output_type": "stream",
          "text": [
            "\n",
            "\n",
            "P( Positive_To_Covid | Potential_Symptoms = Yes )\n",
            "\n",
            " +------------------------+--------------------------+\n",
            "| Positive_To_Covid      |   phi(Positive_To_Covid) |\n",
            "+========================+==========================+\n",
            "| Positive_To_Covid(No)  |                   0.2366 |\n",
            "+------------------------+--------------------------+\n",
            "| Positive_To_Covid(Yes) |                   0.7634 |\n",
            "+------------------------+--------------------------+\n"
          ],
          "name": "stdout"
        },
        {
          "output_type": "stream",
          "text": [
            "\n"
          ],
          "name": "stderr"
        }
      ]
    },
    {
      "cell_type": "code",
      "metadata": {
        "colab": {
          "base_uri": "https://localhost:8080/"
        },
        "id": "qYSq4SfriZlJ",
        "outputId": "b051b388-69bb-4913-ec51-e9c001008a26"
      },
      "source": [
        "query3 = exact_inference.query(['Potential_Symptoms', 'Live_With_Other_People'], {'Positive_To_Covid':'No'})\n",
        "print('\\n\\nP(Potential_Symptoms, Live_With_Other_People | Positive_To_Covid = No )\\n\\n', query3)"
      ],
      "execution_count": 28,
      "outputs": [
        {
          "output_type": "stream",
          "text": [
            "Finding Elimination Order: : 100%|██████████| 5/5 [00:00<00:00, 1638.66it/s]\n",
            "Eliminating: Over_Eighty: 100%|██████████| 5/5 [00:00<00:00, 93.68it/s]\n"
          ],
          "name": "stderr"
        },
        {
          "output_type": "stream",
          "text": [
            "\n",
            "\n",
            "P(Potential_Symptoms, Live_With_Other_People | Positive_To_Covid = No )\n",
            "\n",
            " +-----------------------------+-------------------------+--------------------------------------------------+\n",
            "| Live_With_Other_People      | Potential_Symptoms      |   phi(Live_With_Other_People,Potential_Symptoms) |\n",
            "+=============================+=========================+==================================================+\n",
            "| Live_With_Other_People(No)  | Potential_Symptoms(No)  |                                           0.3619 |\n",
            "+-----------------------------+-------------------------+--------------------------------------------------+\n",
            "| Live_With_Other_People(No)  | Potential_Symptoms(Yes) |                                           0.0562 |\n",
            "+-----------------------------+-------------------------+--------------------------------------------------+\n",
            "| Live_With_Other_People(Yes) | Potential_Symptoms(No)  |                                           0.5303 |\n",
            "+-----------------------------+-------------------------+--------------------------------------------------+\n",
            "| Live_With_Other_People(Yes) | Potential_Symptoms(Yes) |                                           0.0516 |\n",
            "+-----------------------------+-------------------------+--------------------------------------------------+\n"
          ],
          "name": "stdout"
        }
      ]
    },
    {
      "cell_type": "code",
      "metadata": {
        "colab": {
          "base_uri": "https://localhost:8080/"
        },
        "id": "gKyWxp5FiZlK",
        "outputId": "784a99ea-f611-4632-fc4d-eb80e9ece06d"
      },
      "source": [
        "query4 = exact_inference.map_query(['Over_Eighty', 'Live_With_Other_People',\n",
        "                                    'Vaccinated'], {'Positive_To_Covid':'Yes'}) \n",
        "print('\\n\\nMAP of Positive_To_Covid = \\\"Yes\\\" \\n\\n', query4)"
      ],
      "execution_count": 29,
      "outputs": [
        {
          "output_type": "stream",
          "text": [
            "Finding Elimination Order: : 100%|██████████| 4/4 [00:00<00:00, 1537.22it/s]\n",
            "Eliminating: Cough: 100%|██████████| 4/4 [00:00<00:00, 247.90it/s]\n"
          ],
          "name": "stderr"
        },
        {
          "output_type": "stream",
          "text": [
            "\n",
            "\n",
            "MAP of Positive_To_Covid = \"Yes\" \n",
            "\n",
            " {'Over_Eighty': 'No', 'Live_With_Other_People': 'Yes', 'Vaccinated': 'No'}\n"
          ],
          "name": "stdout"
        }
      ]
    },
    {
      "cell_type": "code",
      "metadata": {
        "colab": {
          "base_uri": "https://localhost:8080/"
        },
        "id": "HLSgjsPFiZlK",
        "outputId": "4aefd742-53ea-4c1b-9499-ca0197080258"
      },
      "source": [
        "query = exact_inference.query(['Vaccinated'], {'Over_Eighty' : 'Yes','Positive_To_Covid' : 'No'})\n",
        "print(\"\\nP(Vaccinated | Over_Eighty = \\\"Yes\\\", Positive_To_Covid = \\\"No\\\")\\n\\n\", query)\n",
        "\n",
        "reference_prob = query.values[1]"
      ],
      "execution_count": 30,
      "outputs": [
        {
          "output_type": "stream",
          "text": [
            "Finding Elimination Order: : 100%|██████████| 5/5 [00:00<00:00, 1772.29it/s]\n",
            "Eliminating: Live_With_Other_People: 100%|██████████| 5/5 [00:00<00:00, 197.95it/s]"
          ],
          "name": "stderr"
        },
        {
          "output_type": "stream",
          "text": [
            "\n",
            "P(Vaccinated | Over_Eighty = \"Yes\", Positive_To_Covid = \"No\")\n",
            "\n",
            " +-----------------+-------------------+\n",
            "| Vaccinated      |   phi(Vaccinated) |\n",
            "+=================+===================+\n",
            "| Vaccinated(No)  |            0.2190 |\n",
            "+-----------------+-------------------+\n",
            "| Vaccinated(Yes) |            0.7810 |\n",
            "+-----------------+-------------------+\n"
          ],
          "name": "stdout"
        },
        {
          "output_type": "stream",
          "text": [
            "\n"
          ],
          "name": "stderr"
        }
      ]
    },
    {
      "cell_type": "code",
      "metadata": {
        "colab": {
          "base_uri": "https://localhost:8080/"
        },
        "id": "mhaokKHXiZlL",
        "outputId": "7d21fd4d-cc33-4768-baa5-522118cab95a"
      },
      "source": [
        "from pgmpy.sampling import BayesianModelSampling\n",
        "from pgmpy.factors.discrete import State\n",
        "from pgmpy.sampling import GibbsSampling\n",
        "\n",
        "BMS_inference = BayesianModelSampling(model)\n",
        "gibbs = GibbsSampling(model)\n",
        "\n",
        "def get_best_sampling_method(reference_prob, results_WL, results_RS, results_GS):\n",
        "    wl = abs(reference_prob - results_WL[-1])\n",
        "    rs = abs(reference_prob - results_RS[-1])\n",
        "    gs = abs(reference_prob - results_GS[-1])\n",
        "    if wl < rs and wl < gs:\n",
        "        print('The best method is WL with a difference wrt the reference value of: {}'.format(wl))\n",
        "    elif rs < wl and rs < gs:\n",
        "        print('The best method is RS with a difference wrt the reference value of: {}'.format(rs))\n",
        "    else:\n",
        "        print('The best method is GS with a difference wrt the reference value of: {}'.format(gs))\n",
        "\n",
        "def weighted_likelihood_prob(samples,variable):\n",
        "    return round(np.sum(np.dot(samples[variable],samples['_weight']))/np.sum(samples['_weight']),2)\n",
        "\n",
        "def gibbs_sampling(samples):\n",
        "    return (samples.query('Vaccinated == 1 & Over_Eighty == 1 & Positive_To_Covid == 0').shape[0]\n",
        "                /\n",
        "            samples.query('Over_Eighty == 1 & Positive_To_Covid == 0').shape[0])\n",
        "    \n",
        "def run(sample_size):\n",
        "    # Sample\n",
        "    samples_WL = BMS_inference.likelihood_weighted_sample(\n",
        "                      evidence = evidence, \n",
        "                      size=sample_size, \n",
        "                      return_type='recarray')\n",
        "    samples_RS = BMS_inference.rejection_sample(\n",
        "                      evidence = evidence, \n",
        "                      size=sample_size, \n",
        "                      return_type='recarray')\n",
        "    samples_GS= gibbs.sample(size = size)\n",
        "    \n",
        "    # Probability\n",
        "    results_WL = weighted_likelihood_prob(samples_WL,'Vaccinated')\n",
        "    results_RS = np.recarray.mean(samples_RS['Vaccinated'], axis=0)\n",
        "    results_GS = gibbs_sampling(samples_GS)\n",
        "    \n",
        "    # Return results\n",
        "    return np.array([(sample_size, \n",
        "                      results_WL,\n",
        "                      results_RS,\n",
        "                      results_GS)], \n",
        "                    dtype=[('sample_size', '<i8'), \n",
        "                           ('WL', '<f8'),\n",
        "                           ('RS', '<f8'),\n",
        "                           ('GS', '<f8')])\n",
        "\n",
        "approximate_results = np.array([], dtype=[('sample_size', '<i8'), \n",
        "                           ('WL', '<f8'),\n",
        "                           ('RS', '<f8'),\n",
        "                           ('GS', '<f8')])\n",
        "initial_size = 2\n",
        "final_size = 5\n",
        "num = 10\n",
        "evidence = [State('Over_Eighty', 'Yes'), State('Positive_To_Covid', 'No')]\n",
        "\n",
        "for size in np.logspace(initial_size, final_size, num=num, dtype='<i8'):\n",
        "    approximate_results=np.append(approximate_results, run(size))\n",
        "    \n",
        "sizes = approximate_results['sample_size']\n",
        "results_WL = approximate_results['WL']\n",
        "results_RS = approximate_results['RS']\n",
        "results_GS = approximate_results['GS']"
      ],
      "execution_count": 31,
      "outputs": [
        {
          "output_type": "stream",
          "text": [
            "/usr/local/lib/python3.7/dist-packages/pgmpy/factors/discrete/DiscreteFactor.py:519: UserWarning: Found unknown state name. Trying to switch to using all state names as state numbers\n",
            "  \"Found unknown state name. Trying to switch to using all state names as state numbers\"\n",
            "  0%|          | 0/100 [00:00<?, ?it/s]\n",
            "  0%|          | 0/8 [00:00<?, ?it/s]\u001b[A\n",
            "Generating for node: Over_Eighty:   0%|          | 0/8 [00:00<?, ?it/s]\u001b[A\n",
            "Generating for node: Live_With_Other_People:   0%|          | 0/8 [00:00<?, ?it/s]\u001b[A\n",
            "Generating for node: Vaccinated:   0%|          | 0/8 [00:00<?, ?it/s]            \u001b[A\n",
            "Generating for node: Lost_Taste:   0%|          | 0/8 [00:00<?, ?it/s]\u001b[A\n",
            "Generating for node: Fever:   0%|          | 0/8 [00:00<?, ?it/s]     \u001b[A\n",
            "Generating for node: Cough:   0%|          | 0/8 [00:00<?, ?it/s]\u001b[A\n",
            "Generating for node: Potential_Symptoms:   0%|          | 0/8 [00:00<?, ?it/s]\u001b[A\n",
            "Generating for node: Positive_To_Covid: 100%|██████████| 8/8 [00:00<00:00, 176.73it/s]\n",
            "\n",
            "  0%|          | 0/8 [00:00<?, ?it/s]\u001b[A\n",
            "Generating for node: Over_Eighty:   0%|          | 0/8 [00:00<?, ?it/s]\u001b[A\n",
            "Generating for node: Live_With_Other_People:   0%|          | 0/8 [00:00<?, ?it/s]\u001b[A\n",
            "Generating for node: Vaccinated:   0%|          | 0/8 [00:00<?, ?it/s]            \u001b[A\n",
            "Generating for node: Lost_Taste:   0%|          | 0/8 [00:00<?, ?it/s]\u001b[A\n",
            "Generating for node: Fever:   0%|          | 0/8 [00:00<?, ?it/s]     \u001b[A\n",
            "Generating for node: Cough:   0%|          | 0/8 [00:00<?, ?it/s]\u001b[A\n",
            "Generating for node: Potential_Symptoms:   0%|          | 0/8 [00:00<?, ?it/s]\u001b[A\n",
            "Generating for node: Positive_To_Covid: 100%|██████████| 8/8 [00:00<00:00, 104.67it/s]\n",
            "156it [00:00, 1100.90it/s]\n",
            "100%|██████████| 99/99 [00:00<00:00, 1007.96it/s]\n",
            "  0%|          | 0/215 [00:00<?, ?it/s]\n",
            "  0%|          | 0/8 [00:00<?, ?it/s]\u001b[A\n",
            "Generating for node: Over_Eighty:   0%|          | 0/8 [00:00<?, ?it/s]\u001b[A\n",
            "Generating for node: Live_With_Other_People:   0%|          | 0/8 [00:00<?, ?it/s]\u001b[A\n",
            "Generating for node: Vaccinated:   0%|          | 0/8 [00:00<?, ?it/s]            \u001b[A\n",
            "Generating for node: Lost_Taste:   0%|          | 0/8 [00:00<?, ?it/s]\u001b[A\n",
            "Generating for node: Fever:   0%|          | 0/8 [00:00<?, ?it/s]     \u001b[A\n",
            "Generating for node: Cough:   0%|          | 0/8 [00:00<?, ?it/s]\u001b[A\n",
            "Generating for node: Potential_Symptoms:   0%|          | 0/8 [00:00<?, ?it/s]\u001b[A\n",
            "Generating for node: Positive_To_Covid: 100%|██████████| 8/8 [00:00<00:00, 178.24it/s]\n",
            "\n",
            "  0%|          | 0/8 [00:00<?, ?it/s]\u001b[A\n",
            "Generating for node: Over_Eighty:   0%|          | 0/8 [00:00<?, ?it/s]\u001b[A\n",
            "Generating for node: Live_With_Other_People:   0%|          | 0/8 [00:00<?, ?it/s]\u001b[A\n",
            "Generating for node: Vaccinated:   0%|          | 0/8 [00:00<?, ?it/s]            \u001b[A\n",
            "Generating for node: Lost_Taste:   0%|          | 0/8 [00:00<?, ?it/s]\u001b[A\n",
            "Generating for node: Fever:   0%|          | 0/8 [00:00<?, ?it/s]     \u001b[A\n",
            "Generating for node: Cough:   0%|          | 0/8 [00:00<?, ?it/s]\u001b[A\n",
            "Generating for node: Potential_Symptoms:   0%|          | 0/8 [00:00<?, ?it/s]\u001b[A\n",
            "Generating for node: Positive_To_Covid: 100%|██████████| 8/8 [00:00<00:00, 96.83it/s]\n",
            "249it [00:00, 1747.54it/s]\n",
            "100%|██████████| 214/214 [00:00<00:00, 911.27it/s]\n",
            "  0%|          | 0/464 [00:00<?, ?it/s]\n",
            "  0%|          | 0/8 [00:00<?, ?it/s]\u001b[A\n",
            "Generating for node: Over_Eighty:   0%|          | 0/8 [00:00<?, ?it/s]\u001b[A\n",
            "Generating for node: Live_With_Other_People:   0%|          | 0/8 [00:00<?, ?it/s]\u001b[A\n",
            "Generating for node: Vaccinated:   0%|          | 0/8 [00:00<?, ?it/s]            \u001b[A\n",
            "Generating for node: Lost_Taste:   0%|          | 0/8 [00:00<?, ?it/s]\u001b[A\n",
            "Generating for node: Fever:   0%|          | 0/8 [00:00<?, ?it/s]     \u001b[A\n",
            "Generating for node: Cough:   0%|          | 0/8 [00:00<?, ?it/s]\u001b[A\n",
            "Generating for node: Potential_Symptoms:   0%|          | 0/8 [00:00<?, ?it/s]\u001b[A\n",
            "Generating for node: Positive_To_Covid: 100%|██████████| 8/8 [00:00<00:00, 127.32it/s]\n",
            "\n",
            "  0%|          | 0/8 [00:00<?, ?it/s]\u001b[A\n",
            "Generating for node: Over_Eighty:   0%|          | 0/8 [00:00<?, ?it/s]\u001b[A\n",
            "Generating for node: Live_With_Other_People:   0%|          | 0/8 [00:00<?, ?it/s]\u001b[A\n",
            "Generating for node: Vaccinated:   0%|          | 0/8 [00:00<?, ?it/s]            \u001b[A\n",
            "Generating for node: Lost_Taste:   0%|          | 0/8 [00:00<?, ?it/s]\u001b[A\n",
            "Generating for node: Fever:   0%|          | 0/8 [00:00<?, ?it/s]     \u001b[A\n",
            "Generating for node: Cough:   0%|          | 0/8 [00:00<?, ?it/s]\u001b[A\n",
            "Generating for node: Potential_Symptoms:   0%|          | 0/8 [00:00<?, ?it/s]\u001b[A\n",
            "Generating for node: Potential_Symptoms:  88%|████████▊ | 7/8 [00:00<00:00, 51.88it/s]\u001b[A\n",
            "Generating for node: Positive_To_Covid: 100%|██████████| 8/8 [00:00<00:00, 43.85it/s]\n",
            "733it [00:00, 2802.04it/s]\n",
            "100%|██████████| 463/463 [00:00<00:00, 1116.28it/s]\n",
            "  0%|          | 0/1000 [00:00<?, ?it/s]\n",
            "  0%|          | 0/8 [00:00<?, ?it/s]\u001b[A\n",
            "Generating for node: Over_Eighty:   0%|          | 0/8 [00:00<?, ?it/s]\u001b[A\n",
            "Generating for node: Live_With_Other_People:   0%|          | 0/8 [00:00<?, ?it/s]\u001b[A\n",
            "Generating for node: Vaccinated:   0%|          | 0/8 [00:00<?, ?it/s]            \u001b[A\n",
            "Generating for node: Lost_Taste:   0%|          | 0/8 [00:00<?, ?it/s]\u001b[A\n",
            "Generating for node: Fever:   0%|          | 0/8 [00:00<?, ?it/s]     \u001b[A\n",
            "Generating for node: Cough:   0%|          | 0/8 [00:00<?, ?it/s]\u001b[A\n",
            "Generating for node: Potential_Symptoms:   0%|          | 0/8 [00:00<?, ?it/s]\u001b[A\n",
            "Generating for node: Positive_To_Covid: 100%|██████████| 8/8 [00:00<00:00, 108.79it/s]\n",
            "\n",
            "  0%|          | 0/8 [00:00<?, ?it/s]\u001b[A\n",
            "Generating for node: Over_Eighty:   0%|          | 0/8 [00:00<?, ?it/s]\u001b[A\n",
            "Generating for node: Live_With_Other_People:   0%|          | 0/8 [00:00<?, ?it/s]\u001b[A\n",
            "Generating for node: Vaccinated:   0%|          | 0/8 [00:00<?, ?it/s]            \u001b[A\n",
            "Generating for node: Vaccinated:  38%|███▊      | 3/8 [00:00<00:00, 17.32it/s]\u001b[A\n",
            "Generating for node: Lost_Taste:  38%|███▊      | 3/8 [00:00<00:00, 17.32it/s]\u001b[A\n",
            "Generating for node: Fever:  38%|███▊      | 3/8 [00:00<00:00, 17.32it/s]     \u001b[A\n",
            "Generating for node: Cough:  38%|███▊      | 3/8 [00:00<00:00, 17.32it/s]\u001b[A\n",
            "Generating for node: Potential_Symptoms:  38%|███▊      | 3/8 [00:00<00:00, 17.32it/s]\u001b[A\n",
            "Generating for node: Potential_Symptoms:  88%|████████▊ | 7/8 [00:00<00:00, 20.01it/s]\u001b[A\n",
            "Generating for node: Positive_To_Covid: 100%|██████████| 8/8 [00:00<00:00, 17.31it/s]\n",
            "1436it [00:00, 2605.23it/s]\n",
            "100%|██████████| 999/999 [00:00<00:00, 2139.90it/s]\n",
            "  0%|          | 0/2154 [00:00<?, ?it/s]\n",
            "  0%|          | 0/8 [00:00<?, ?it/s]\u001b[A\n",
            "Generating for node: Over_Eighty:   0%|          | 0/8 [00:00<?, ?it/s]\u001b[A\n",
            "Generating for node: Live_With_Other_People:   0%|          | 0/8 [00:00<?, ?it/s]\u001b[A\n",
            "Generating for node: Vaccinated:   0%|          | 0/8 [00:00<?, ?it/s]            \u001b[A\n",
            "Generating for node: Lost_Taste:   0%|          | 0/8 [00:00<?, ?it/s]\u001b[A\n",
            "Generating for node: Fever:   0%|          | 0/8 [00:00<?, ?it/s]     \u001b[A\n",
            "Generating for node: Cough:   0%|          | 0/8 [00:00<?, ?it/s]\u001b[A\n",
            "Generating for node: Potential_Symptoms:   0%|          | 0/8 [00:00<?, ?it/s]\u001b[A\n",
            "Generating for node: Potential_Symptoms:  88%|████████▊ | 7/8 [00:00<00:00, 58.93it/s]\u001b[A\n",
            "Generating for node: Positive_To_Covid: 100%|██████████| 8/8 [00:00<00:00, 45.94it/s]\n",
            " 18%|█▊        | 383/2154 [00:00<00:00, 2079.85it/s]\n",
            "  0%|          | 0/8 [00:00<?, ?it/s]\u001b[A\n",
            "Generating for node: Over_Eighty:   0%|          | 0/8 [00:00<?, ?it/s]\u001b[A\n",
            "Generating for node: Live_With_Other_People:   0%|          | 0/8 [00:00<?, ?it/s]\u001b[A\n",
            "Generating for node: Live_With_Other_People:  25%|██▌       | 2/8 [00:00<00:00, 16.01it/s]\u001b[A\n",
            "Generating for node: Vaccinated:  25%|██▌       | 2/8 [00:00<00:00, 16.01it/s]            \u001b[A\n",
            "Generating for node: Vaccinated:  38%|███▊      | 3/8 [00:00<00:00, 12.64it/s]\u001b[A\n",
            "Generating for node: Lost_Taste:  38%|███▊      | 3/8 [00:00<00:00, 12.64it/s]\u001b[A\n",
            "Generating for node: Fever:  38%|███▊      | 3/8 [00:00<00:00, 12.64it/s]     \u001b[A\n",
            "Generating for node: Cough:  38%|███▊      | 3/8 [00:00<00:00, 12.64it/s]\u001b[A\n",
            "Generating for node: Potential_Symptoms:  38%|███▊      | 3/8 [00:00<00:00, 12.64it/s]\u001b[A\n",
            "Generating for node: Potential_Symptoms:  88%|████████▊ | 7/8 [00:00<00:00, 14.50it/s]\u001b[A\n",
            "Generating for node: Positive_To_Covid: 100%|██████████| 8/8 [00:00<00:00, 14.56it/s]\n",
            "3004it [00:00, 4033.75it/s]\n",
            "100%|██████████| 2153/2153 [00:00<00:00, 2263.57it/s]\n",
            "  0%|          | 0/4641 [00:00<?, ?it/s]\n",
            "  0%|          | 0/8 [00:00<?, ?it/s]\u001b[A\n",
            "Generating for node: Over_Eighty:   0%|          | 0/8 [00:00<?, ?it/s]\u001b[A\n",
            "Generating for node: Live_With_Other_People:   0%|          | 0/8 [00:00<?, ?it/s]\u001b[A\n",
            "Generating for node: Vaccinated:   0%|          | 0/8 [00:00<?, ?it/s]            \u001b[A\n",
            "Generating for node: Lost_Taste:   0%|          | 0/8 [00:00<?, ?it/s]\u001b[A\n",
            "Generating for node: Fever:   0%|          | 0/8 [00:00<?, ?it/s]     \u001b[A\n",
            "Generating for node: Fever:  62%|██████▎   | 5/8 [00:00<00:00, 48.54it/s]\u001b[A\n",
            "Generating for node: Cough:  62%|██████▎   | 5/8 [00:00<00:00, 48.54it/s]\u001b[A\n",
            "Generating for node: Potential_Symptoms:  62%|██████▎   | 5/8 [00:00<00:00, 48.54it/s]\u001b[A\n",
            "Generating for node: Positive_To_Covid:  62%|██████▎   | 5/8 [00:00<00:00, 48.54it/s] \u001b[A\n",
            "Generating for node: Positive_To_Covid: 100%|██████████| 8/8 [00:00<00:00, 32.13it/s]\n",
            " 16%|█▋        | 759/4641 [00:00<00:01, 2959.21it/s]\n",
            "  0%|          | 0/8 [00:00<?, ?it/s]\u001b[A\n",
            "Generating for node: Over_Eighty:   0%|          | 0/8 [00:00<?, ?it/s]\u001b[A\n",
            "Generating for node: Live_With_Other_People:   0%|          | 0/8 [00:00<?, ?it/s]\u001b[A\n",
            "Generating for node: Live_With_Other_People:  25%|██▌       | 2/8 [00:00<00:00,  9.29it/s]\u001b[A\n",
            "Generating for node: Vaccinated:  25%|██▌       | 2/8 [00:00<00:00,  9.29it/s]            \u001b[A\n",
            "Generating for node: Vaccinated:  38%|███▊      | 3/8 [00:00<00:00,  7.62it/s]\u001b[A\n",
            "Generating for node: Lost_Taste:  38%|███▊      | 3/8 [00:00<00:00,  7.62it/s]\u001b[A\n",
            "Generating for node: Fever:  38%|███▊      | 3/8 [00:00<00:00,  7.62it/s]     \u001b[A\n",
            "Generating for node: Cough:  38%|███▊      | 3/8 [00:00<00:00,  7.62it/s]\u001b[A\n",
            "Generating for node: Potential_Symptoms:  38%|███▊      | 3/8 [00:00<00:00,  7.62it/s]\u001b[A\n",
            "Generating for node: Potential_Symptoms:  88%|████████▊ | 7/8 [00:00<00:00,  8.89it/s]\u001b[A\n",
            "Generating for node: Positive_To_Covid:  88%|████████▊ | 7/8 [00:00<00:00,  8.89it/s] \u001b[A\n",
            "Generating for node: Positive_To_Covid: 100%|██████████| 8/8 [00:00<00:00,  8.93it/s]\n",
            "6731it [00:01, 5768.49it/s]\n",
            "100%|██████████| 4640/4640 [00:02<00:00, 2274.32it/s]\n",
            "  0%|          | 0/10000 [00:00<?, ?it/s]\n",
            "  0%|          | 0/8 [00:00<?, ?it/s]\u001b[A\n",
            "Generating for node: Over_Eighty:   0%|          | 0/8 [00:00<?, ?it/s]\u001b[A\n",
            "Generating for node: Live_With_Other_People:   0%|          | 0/8 [00:00<?, ?it/s]\u001b[A\n",
            "Generating for node: Vaccinated:   0%|          | 0/8 [00:00<?, ?it/s]            \u001b[A\n",
            "Generating for node: Vaccinated:  38%|███▊      | 3/8 [00:00<00:00, 21.81it/s]\u001b[A\n",
            "Generating for node: Lost_Taste:  38%|███▊      | 3/8 [00:00<00:00, 21.81it/s]\u001b[A\n",
            "Generating for node: Fever:  38%|███▊      | 3/8 [00:00<00:00, 21.81it/s]     \u001b[A\n",
            "Generating for node: Cough:  38%|███▊      | 3/8 [00:00<00:00, 21.81it/s]\u001b[A\n",
            "Generating for node: Potential_Symptoms:  38%|███▊      | 3/8 [00:00<00:00, 21.81it/s]\u001b[A\n",
            "Generating for node: Potential_Symptoms:  88%|████████▊ | 7/8 [00:00<00:00, 22.90it/s]\u001b[A\n",
            "Generating for node: Positive_To_Covid: 100%|██████████| 8/8 [00:00<00:00, 21.13it/s]\n",
            " 17%|█▋        | 1742/10000 [00:00<00:01, 4463.29it/s]\n",
            "  0%|          | 0/8 [00:00<?, ?it/s]\u001b[A\n",
            "Generating for node: Over_Eighty:   0%|          | 0/8 [00:00<?, ?it/s]\u001b[A\n",
            "Generating for node: Live_With_Other_People:   0%|          | 0/8 [00:00<?, ?it/s]\u001b[A\n",
            "Generating for node: Live_With_Other_People:  25%|██▌       | 2/8 [00:00<00:01,  5.69it/s]\u001b[A\n",
            "Generating for node: Vaccinated:  25%|██▌       | 2/8 [00:00<00:01,  5.69it/s]            \u001b[A\n",
            "Generating for node: Vaccinated:  38%|███▊      | 3/8 [00:00<00:01,  4.47it/s]\u001b[A\n",
            "Generating for node: Lost_Taste:  38%|███▊      | 3/8 [00:00<00:01,  4.47it/s]\u001b[A\n",
            "Generating for node: Fever:  38%|███▊      | 3/8 [00:00<00:01,  4.47it/s]     \u001b[A\n",
            "Generating for node: Cough:  38%|███▊      | 3/8 [00:00<00:01,  4.47it/s]\u001b[A\n",
            "Generating for node: Potential_Symptoms:  38%|███▊      | 3/8 [00:00<00:01,  4.47it/s]\u001b[A\n",
            "Generating for node: Potential_Symptoms:  88%|████████▊ | 7/8 [00:01<00:00,  5.20it/s]\u001b[A\n",
            "Generating for node: Positive_To_Covid:  88%|████████▊ | 7/8 [00:01<00:00,  5.20it/s] \u001b[A\n",
            "Generating for node: Positive_To_Covid: 100%|██████████| 8/8 [00:01<00:00,  5.02it/s]\n",
            "13807it [00:02, 6884.75it/s]\n",
            "100%|██████████| 9999/9999 [00:04<00:00, 2290.26it/s]\n",
            "  0%|          | 0/21544 [00:00<?, ?it/s]\n",
            "  0%|          | 0/8 [00:00<?, ?it/s]\u001b[A\n",
            "Generating for node: Over_Eighty:   0%|          | 0/8 [00:00<?, ?it/s]\u001b[A\n",
            "Generating for node: Live_With_Other_People:   0%|          | 0/8 [00:00<?, ?it/s]\u001b[A\n",
            "Generating for node: Live_With_Other_People:  25%|██▌       | 2/8 [00:00<00:00, 16.61it/s]\u001b[A\n",
            "Generating for node: Vaccinated:  25%|██▌       | 2/8 [00:00<00:00, 16.61it/s]            \u001b[A\n",
            "Generating for node: Vaccinated:  38%|███▊      | 3/8 [00:00<00:00, 12.46it/s]\u001b[A\n",
            "Generating for node: Lost_Taste:  38%|███▊      | 3/8 [00:00<00:00, 12.46it/s]\u001b[A\n",
            "Generating for node: Fever:  38%|███▊      | 3/8 [00:00<00:00, 12.46it/s]     \u001b[A\n",
            "Generating for node: Cough:  38%|███▊      | 3/8 [00:00<00:00, 12.46it/s]\u001b[A\n",
            "Generating for node: Potential_Symptoms:  38%|███▊      | 3/8 [00:00<00:00, 12.46it/s]\u001b[A\n",
            "Generating for node: Potential_Symptoms:  88%|████████▊ | 7/8 [00:00<00:00, 14.06it/s]\u001b[A\n",
            "Generating for node: Positive_To_Covid: 100%|██████████| 8/8 [00:00<00:00, 13.31it/s]\n",
            " 17%|█▋        | 3690/21544 [00:00<00:02, 6067.24it/s]\n",
            "  0%|          | 0/8 [00:00<?, ?it/s]\u001b[A\n",
            "Generating for node: Over_Eighty:   0%|          | 0/8 [00:00<?, ?it/s]\u001b[A\n",
            "Generating for node: Live_With_Other_People:   0%|          | 0/8 [00:00<?, ?it/s]\u001b[A\n",
            "Generating for node: Live_With_Other_People:  25%|██▌       | 2/8 [00:00<00:02,  2.88it/s]\u001b[A\n",
            "Generating for node: Vaccinated:  25%|██▌       | 2/8 [00:00<00:02,  2.88it/s]            \u001b[A\n",
            "Generating for node: Vaccinated:  38%|███▊      | 3/8 [00:01<00:02,  2.22it/s]\u001b[A\n",
            "Generating for node: Lost_Taste:  38%|███▊      | 3/8 [00:01<00:02,  2.22it/s]\u001b[A\n",
            "Generating for node: Fever:  38%|███▊      | 3/8 [00:01<00:02,  2.22it/s]     \u001b[A\n",
            "Generating for node: Cough:  38%|███▊      | 3/8 [00:01<00:02,  2.22it/s]\u001b[A\n",
            "Generating for node: Potential_Symptoms:  38%|███▊      | 3/8 [00:01<00:02,  2.22it/s]\u001b[A\n",
            "Generating for node: Potential_Symptoms:  88%|████████▊ | 7/8 [00:02<00:00,  2.60it/s]\u001b[A\n",
            "Generating for node: Positive_To_Covid:  88%|████████▊ | 7/8 [00:02<00:00,  2.60it/s] \u001b[A\n",
            "Generating for node: Positive_To_Covid: 100%|██████████| 8/8 [00:03<00:00,  2.47it/s]\n",
            "30582it [00:03, 7891.84it/s]\n",
            "100%|██████████| 21543/21543 [00:09<00:00, 2321.64it/s]\n",
            "  0%|          | 0/46415 [00:00<?, ?it/s]\n",
            "  0%|          | 0/8 [00:00<?, ?it/s]\u001b[A\n",
            "Generating for node: Over_Eighty:   0%|          | 0/8 [00:00<?, ?it/s]\u001b[A\n",
            "Generating for node: Live_With_Other_People:   0%|          | 0/8 [00:00<?, ?it/s]\u001b[A\n",
            "Generating for node: Live_With_Other_People:  25%|██▌       | 2/8 [00:00<00:00,  8.34it/s]\u001b[A\n",
            "Generating for node: Vaccinated:  25%|██▌       | 2/8 [00:00<00:00,  8.34it/s]            \u001b[A\n",
            "Generating for node: Vaccinated:  38%|███▊      | 3/8 [00:00<00:00,  6.64it/s]\u001b[A\n",
            "Generating for node: Lost_Taste:  38%|███▊      | 3/8 [00:00<00:00,  6.64it/s]\u001b[A\n",
            "Generating for node: Fever:  38%|███▊      | 3/8 [00:00<00:00,  6.64it/s]     \u001b[A\n",
            "Generating for node: Cough:  38%|███▊      | 3/8 [00:00<00:00,  6.64it/s]\u001b[A\n",
            "Generating for node: Potential_Symptoms:  38%|███▊      | 3/8 [00:00<00:00,  6.64it/s]\u001b[A\n",
            "Generating for node: Potential_Symptoms:  88%|████████▊ | 7/8 [00:00<00:00,  7.50it/s]\u001b[A\n",
            "Generating for node: Positive_To_Covid:  88%|████████▊ | 7/8 [00:00<00:00,  7.50it/s] \u001b[A\n",
            "Generating for node: Positive_To_Covid: 100%|██████████| 8/8 [00:01<00:00,  7.07it/s]\n",
            " 17%|█▋        | 7891/46415 [00:01<00:05, 6921.49it/s]\n",
            "  0%|          | 0/8 [00:00<?, ?it/s]\u001b[A\n",
            "Generating for node: Over_Eighty:   0%|          | 0/8 [00:00<?, ?it/s]\u001b[A\n",
            "Generating for node: Live_With_Other_People:   0%|          | 0/8 [00:00<?, ?it/s]\u001b[A\n",
            "Generating for node: Live_With_Other_People:  25%|██▌       | 2/8 [00:01<00:04,  1.28it/s]\u001b[A\n",
            "Generating for node: Vaccinated:  25%|██▌       | 2/8 [00:01<00:04,  1.28it/s]            \u001b[A\n",
            "Generating for node: Vaccinated:  38%|███▊      | 3/8 [00:03<00:04,  1.01it/s]\u001b[A\n",
            "Generating for node: Lost_Taste:  38%|███▊      | 3/8 [00:03<00:04,  1.01it/s]\u001b[A\n",
            "Generating for node: Fever:  38%|███▊      | 3/8 [00:03<00:04,  1.01it/s]     \u001b[A\n",
            "Generating for node: Cough:  38%|███▊      | 3/8 [00:03<00:04,  1.01it/s]\u001b[A\n",
            "Generating for node: Potential_Symptoms:  38%|███▊      | 3/8 [00:03<00:04,  1.01it/s]\u001b[A\n",
            "Generating for node: Potential_Symptoms:  88%|████████▊ | 7/8 [00:05<00:00,  1.19it/s]\u001b[A\n",
            "Generating for node: Positive_To_Covid:  88%|████████▊ | 7/8 [00:05<00:00,  1.19it/s] \u001b[A\n",
            "Generating for node: Positive_To_Covid: 100%|██████████| 8/8 [00:06<00:00,  1.15it/s]\n",
            "65922it [00:08, 8112.61it/s]\n",
            "100%|██████████| 46414/46414 [00:20<00:00, 2223.01it/s]\n",
            "  0%|          | 0/100000 [00:00<?, ?it/s]\n",
            "  0%|          | 0/8 [00:00<?, ?it/s]\u001b[A\n",
            "Generating for node: Over_Eighty:   0%|          | 0/8 [00:00<?, ?it/s]\u001b[A\n",
            "Generating for node: Live_With_Other_People:   0%|          | 0/8 [00:00<?, ?it/s]\u001b[A\n",
            "Generating for node: Live_With_Other_People:  25%|██▌       | 2/8 [00:00<00:01,  4.36it/s]\u001b[A\n",
            "Generating for node: Vaccinated:  25%|██▌       | 2/8 [00:00<00:01,  4.36it/s]            \u001b[A\n",
            "Generating for node: Vaccinated:  38%|███▊      | 3/8 [00:00<00:01,  3.42it/s]\u001b[A\n",
            "Generating for node: Lost_Taste:  38%|███▊      | 3/8 [00:00<00:01,  3.42it/s]\u001b[A\n",
            "Generating for node: Fever:  38%|███▊      | 3/8 [00:00<00:01,  3.42it/s]     \u001b[A\n",
            "Generating for node: Cough:  38%|███▊      | 3/8 [00:00<00:01,  3.42it/s]\u001b[A\n",
            "Generating for node: Potential_Symptoms:  38%|███▊      | 3/8 [00:00<00:01,  3.42it/s]\u001b[A\n",
            "Generating for node: Potential_Symptoms:  88%|████████▊ | 7/8 [00:01<00:00,  3.98it/s]\u001b[A\n",
            "Generating for node: Positive_To_Covid:  88%|████████▊ | 7/8 [00:01<00:00,  3.98it/s] \u001b[A\n",
            "Generating for node: Positive_To_Covid: 100%|██████████| 8/8 [00:02<00:00,  3.83it/s]\n",
            " 17%|█▋        | 17031/100000 [00:02<00:10, 8082.36it/s]\n",
            "  0%|          | 0/8 [00:00<?, ?it/s]\u001b[A\n",
            "Generating for node: Over_Eighty:   0%|          | 0/8 [00:00<?, ?it/s]\u001b[A\n",
            "Generating for node: Live_With_Other_People:   0%|          | 0/8 [00:00<?, ?it/s]\u001b[A\n",
            "Generating for node: Live_With_Other_People:  25%|██▌       | 2/8 [00:03<00:09,  1.64s/it]\u001b[A\n",
            "Generating for node: Vaccinated:  25%|██▌       | 2/8 [00:03<00:09,  1.64s/it]            \u001b[A\n",
            "Generating for node: Vaccinated:  38%|███▊      | 3/8 [00:06<00:10,  2.13s/it]\u001b[A\n",
            "Generating for node: Lost_Taste:  38%|███▊      | 3/8 [00:06<00:10,  2.13s/it]\u001b[A\n",
            "Generating for node: Fever:  38%|███▊      | 3/8 [00:06<00:10,  2.13s/it]     \u001b[A\n",
            "Generating for node: Fever:  62%|██████▎   | 5/8 [00:06<00:04,  1.51s/it]\u001b[A\n",
            "Generating for node: Cough:  62%|██████▎   | 5/8 [00:06<00:04,  1.51s/it]\u001b[A\n",
            "Generating for node: Potential_Symptoms:  62%|██████▎   | 5/8 [00:06<00:04,  1.51s/it]\u001b[A\n",
            "Generating for node: Potential_Symptoms:  88%|████████▊ | 7/8 [00:10<00:01,  1.68s/it]\u001b[A\n",
            "Generating for node: Positive_To_Covid:  88%|████████▊ | 7/8 [00:10<00:01,  1.68s/it] \u001b[A\n",
            "Generating for node: Positive_To_Covid: 100%|██████████| 8/8 [00:14<00:00,  1.87s/it]\n",
            "141597it [00:17, 8250.26it/s]\n",
            "100%|██████████| 99999/99999 [00:43<00:00, 2275.32it/s]\n"
          ],
          "name": "stderr"
        }
      ]
    },
    {
      "cell_type": "code",
      "metadata": {
        "colab": {
          "base_uri": "https://localhost:8080/"
        },
        "id": "bm5aG1RIiZlN",
        "outputId": "a89f670b-9ae3-4ad6-ab23-4cf91acce0c1"
      },
      "source": [
        "get_best_sampling_method(reference_prob, results_WL, results_RS, results_GS)"
      ],
      "execution_count": 32,
      "outputs": [
        {
          "output_type": "stream",
          "text": [
            "The best method is RS with a difference wrt the reference value of: 0.0006285421066090091\n"
          ],
          "name": "stdout"
        }
      ]
    },
    {
      "cell_type": "code",
      "metadata": {
        "id": "w0RmfVuNnEdB",
        "colab": {
          "base_uri": "https://localhost:8080/"
        },
        "outputId": "954b49a6-e7f9-4a07-f8d4-ed376a5f7606"
      },
      "source": [
        "print(approximate_results)"
      ],
      "execution_count": 33,
      "outputs": [
        {
          "output_type": "stream",
          "text": [
            "[(   100, 0.75, 0.72      , 0.61538462)\n",
            " (   215, 0.72, 0.78139535, 0.86486486)\n",
            " (   464, 0.78, 0.78232759, 0.80597015)\n",
            " (  1000, 0.78, 0.771     , 0.81889764)\n",
            " (  2154, 0.78, 0.76276695, 0.82      )\n",
            " (  4641, 0.78, 0.7830209 , 0.79818182)\n",
            " ( 10000, 0.78, 0.7822    , 0.78492803)\n",
            " ( 21544, 0.78, 0.78523023, 0.77651035)\n",
            " ( 46415, 0.78, 0.78364753, 0.78125   )\n",
            " (100000, 0.78, 0.78162   , 0.78505001)]\n"
          ],
          "name": "stdout"
        }
      ]
    },
    {
      "cell_type": "code",
      "metadata": {
        "colab": {
          "base_uri": "https://localhost:8080/",
          "height": 662
        },
        "id": "wv6Q3hw55cT4",
        "outputId": "567e6b74-36ee-4a2b-8296-58ee64287e31"
      },
      "source": [
        "# Compare the results\n",
        "plt.style.use('ggplot')\n",
        "\n",
        "plt.figure(figsize=(10,10))\n",
        "plt.grid(True)\n",
        "plt.title('\\nP(Vaccinated | Over_Eighty = \"Yes\", Positive_To_Covid = \"No\")\\n')\n",
        "plt.xlabel(\"# samples (log scale)\")\n",
        "\n",
        "sizes = approximate_results['sample_size']\n",
        "\n",
        "plot_WL, = plt.semilogx(sizes, results_WL, 'yo--', label=\"WL\")\n",
        "plot_RS, = plt.semilogx(sizes, results_RS, 'bo--', label=\"RS\")\n",
        "plot_GS,= plt.semilogx(sizes, results_GS, 'go--', label=\"GS\")\n",
        "plot_VE,= plt.semilogx(sizes, reference_prob*np.ones(len(sizes)),'r', label=\"Variable Elimination\\n(Exact Inference)\")\n",
        "\n",
        "plt.legend(handles=[plot_WL, plot_RS, plot_GS, plot_VE])\n",
        "plt.show()"
      ],
      "execution_count": 34,
      "outputs": [
        {
          "output_type": "display_data",
          "data": {
            "image/png": "[encoded data removed]",
            "text/plain": [
              "<Figure size 720x720 with 1 Axes>"
            ]
          },
          "metadata": {
            "tags": []
          }
        }
      ]
    },
    {
      "cell_type": "code",
      "metadata": {
        "id": "Chb00I2w5fPu"
      },
      "source": [
        ""
      ],
      "execution_count": 34,
      "outputs": []
    }
  ]
}