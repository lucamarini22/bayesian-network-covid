{
  "nbformat": 4,
  "nbformat_minor": 0,
  "metadata": {
    "colab": {
      "name": "Bayesian-Network-Covid.ipynb",
      "provenance": [],
      "collapsed_sections": []
    },
    "kernelspec": {
      "display_name": "Python 3",
      "language": "python",
      "name": "python3"
    },
    "language_info": {
      "codemirror_mode": {
        "name": "ipython",
        "version": 3
      },
      "file_extension": ".py",
      "mimetype": "text/x-python",
      "name": "python",
      "nbconvert_exporter": "python",
      "pygments_lexer": "ipython3",
      "version": "3.6.10"
    }
  },
  "cells": [
    {
      "cell_type": "markdown",
      "metadata": {
        "id": "ROwvz7Y_6NVg"
      },
      "source": [
        "## Import Libraries"
      ]
    },
    {
      "cell_type": "code",
      "metadata": {
        "colab": {
          "base_uri": "https://localhost:8080/"
        },
        "id": "alRGL4Bdm2zB",
        "outputId": "176fa2ae-ad2b-475b-ff0a-b9086d4f2d11"
      },
      "source": [
        "pip install pgmpy"
      ],
      "execution_count": 1,
      "outputs": [
        {
          "output_type": "stream",
          "text": [
            "Requirement already satisfied: pgmpy in /usr/local/lib/python3.7/dist-packages (0.1.13)\n",
            "Requirement already satisfied: numpy in /usr/local/lib/python3.7/dist-packages (from pgmpy) (1.19.5)\n",
            "Requirement already satisfied: scikit-learn in /usr/local/lib/python3.7/dist-packages (from pgmpy) (0.22.2.post1)\n",
            "Requirement already satisfied: scipy in /usr/local/lib/python3.7/dist-packages (from pgmpy) (1.4.1)\n",
            "Requirement already satisfied: pandas in /usr/local/lib/python3.7/dist-packages (from pgmpy) (1.1.5)\n",
            "Requirement already satisfied: joblib in /usr/local/lib/python3.7/dist-packages (from pgmpy) (1.0.1)\n",
            "Requirement already satisfied: tqdm in /usr/local/lib/python3.7/dist-packages (from pgmpy) (4.41.1)\n",
            "Requirement already satisfied: networkx in /usr/local/lib/python3.7/dist-packages (from pgmpy) (2.5)\n",
            "Requirement already satisfied: pyparsing in /usr/local/lib/python3.7/dist-packages (from pgmpy) (2.4.7)\n",
            "Requirement already satisfied: torch in /usr/local/lib/python3.7/dist-packages (from pgmpy) (1.8.0+cu101)\n",
            "Requirement already satisfied: statsmodels in /usr/local/lib/python3.7/dist-packages (from pgmpy) (0.10.2)\n",
            "Requirement already satisfied: python-dateutil>=2.7.3 in /usr/local/lib/python3.7/dist-packages (from pandas->pgmpy) (2.8.1)\n",
            "Requirement already satisfied: pytz>=2017.2 in /usr/local/lib/python3.7/dist-packages (from pandas->pgmpy) (2018.9)\n",
            "Requirement already satisfied: decorator>=4.3.0 in /usr/local/lib/python3.7/dist-packages (from networkx->pgmpy) (4.4.2)\n",
            "Requirement already satisfied: typing-extensions in /usr/local/lib/python3.7/dist-packages (from torch->pgmpy) (3.7.4.3)\n",
            "Requirement already satisfied: patsy>=0.4.0 in /usr/local/lib/python3.7/dist-packages (from statsmodels->pgmpy) (0.5.1)\n",
            "Requirement already satisfied: six>=1.5 in /usr/local/lib/python3.7/dist-packages (from python-dateutil>=2.7.3->pandas->pgmpy) (1.15.0)\n"
          ],
          "name": "stdout"
        }
      ]
    },
    {
      "cell_type": "code",
      "metadata": {
        "id": "vVkHioxLoQRL"
      },
      "source": [
        "# Import libraries\n",
        "from pgmpy.models import BayesianModel\n",
        "import matplotlib.pyplot as plt\n",
        "import networkx as nx\n",
        "import numpy as np\n",
        "from pgmpy.factors.discrete import TabularCPD\n",
        "import numpy as np\n",
        "\n",
        "plt.style.use('ggplot')"
      ],
      "execution_count": 2,
      "outputs": []
    },
    {
      "cell_type": "markdown",
      "metadata": {
        "id": "0OuwTgMq6erj"
      },
      "source": [
        "## Definition of the Model"
      ]
    },
    {
      "cell_type": "markdown",
      "metadata": {
        "id": "ftsUzEIjZtP5"
      },
      "source": [
        "Since 2020 Covid-19 spread all around the World. Many computer scientists supported by medical experts have developed online platforms in which it is possible to assess the percentage of being positive based on multiple factors.\n",
        "\n",
        "This project aims to recreate a simple online Covid-19 test that outputs the probability of being positive by leveraging a Bayesian Network.\n",
        "\n",
        "The Network is composed of seven boolean variables:\n",
        "\n",
        "- **Cough**: the user has a cough.\n",
        "- **Lost_Taste**: the user has lost taste.\n",
        "- **Over_Eighty**: the user is over 80 years old.\n",
        "- **Vaccinated**: the user is vaccinated.\n",
        "- **Live_With_Other_People**: the user lives with other people.\n",
        "- **Potential_Symptoms**: this variable is conditioned on Cough, Lost_Taste and Fever. It tells if the user has potential symptoms or not.    \n",
        "- **Positive_To_Covid**: this variable is used to model the positiveness of the user to the virus. It is directly conditioned on Vaccinated, Live_With_Other_People, and Potential_Symptoms variables."
      ]
    },
    {
      "cell_type": "code",
      "metadata": {
        "id": "-feszLAMoTzQ"
      },
      "source": [
        "model = BayesianModel([('Potential_Symptoms', 'Positive_To_Covid'),\n",
        "                       ('Live_With_Other_People', 'Positive_To_Covid'),\n",
        "                       ('Vaccinated', 'Positive_To_Covid'),\n",
        "                       ('Cough', 'Potential_Symptoms'),\n",
        "                       ('Fever', 'Potential_Symptoms'),\n",
        "                       ('Lost_Taste', 'Potential_Symptoms'),\n",
        "                       ('Over_Eighty', 'Vaccinated'),\n",
        "                       ('Over_Eighty', 'Live_With_Other_People')\n",
        "                       ])"
      ],
      "execution_count": 3,
      "outputs": []
    },
    {
      "cell_type": "code",
      "metadata": {
        "colab": {
          "base_uri": "https://localhost:8080/",
          "height": 575
        },
        "id": "ZrdCcrvmiZk6",
        "outputId": "f0442bf8-e51f-464e-8ced-9d9d8bbe8832"
      },
      "source": [
        "# network nodes and out-edges\n",
        "nodes = list(model.nodes())\n",
        "edges = list(model.edges())\n",
        "\n",
        "DAG = nx.DiGraph()\n",
        "DAG.add_edges_from(edges)\n",
        "fig = plt.figure(figsize = (10,10))\n",
        "pos = nx.spring_layout(DAG) #Position nodes computed by using Fruchterman-Reingold force-directed algorithm.\n",
        "nx.draw_networkx_nodes(DAG, pos=pos, node_color='orange')\n",
        "nx.draw_networkx_labels(DAG, pos=pos)\n",
        "nx.draw_networkx_edges(DAG, pos=pos, edge_color='black', width = 2, arrows=True)\n",
        "plt.show()"
      ],
      "execution_count": 4,
      "outputs": [
        {
          "output_type": "display_data",
          "data": {
            "image/png": "[encoded data removed]",
            "text/plain": [
              "<Figure size 720x720 with 1 Axes>"
            ]
          },
          "metadata": {
            "tags": []
          }
        }
      ]
    },
    {
      "cell_type": "markdown",
      "metadata": {
        "id": "9ORxFB5T6py_"
      },
      "source": [
        "## Conditional Probability Tables (CPT)"
      ]
    },
    {
      "cell_type": "code",
      "metadata": {
        "id": "PEEfGZ--iZlH"
      },
      "source": [
        "# has not/has lost taste\n",
        "lost_taste_cdp = TabularCPD(variable='Lost_Taste', variable_card=2, \n",
        "                            values=[[0.9], [0.1]],\n",
        "                            state_names={'Lost_Taste': ['No', 'Yes']})\n",
        "\n",
        "# has not/has fever\n",
        "fever_cdp = TabularCPD(variable='Fever', variable_card=2, \n",
        "                            values=[[0.82], [0.18]],\n",
        "                            state_names={'Fever': ['No', 'Yes']})\n",
        "\n",
        "# hasn not/has cough\n",
        "cough_cpd = TabularCPD(variable='Cough', variable_card=2, values=[[0.75], [0.25]],\n",
        "                       state_names={'Cough': ['No', 'Yes']})\n",
        "\n",
        "# is not/is over eighty\n",
        "over_eighty_cpd = TabularCPD(variable='Over_Eighty', variable_card=2, \n",
        "                             values=[[0.85], [0.15]],\n",
        "                             state_names={'Over_Eighty': ['No', 'Yes']})\n",
        "\n",
        "# is not/is vaccinated given over eighty\n",
        "vaccinated_cpd = TabularCPD(variable='Vaccinated', variable_card=2, \n",
        "                            values=[[0.90, 0.30],\n",
        "                                    [0.10, 0.70]],\n",
        "                            evidence=['Over_Eighty'],\n",
        "                            evidence_card=[2],\n",
        "                            state_names={'Vaccinated': ['No', 'Yes'],\n",
        "                                         'Over_Eighty': ['No', 'Yes']})\n",
        "\n",
        "# live with other people\n",
        "live_with_other_people_cpd = TabularCPD(variable='Live_With_Other_People', \n",
        "                            variable_card=2, \n",
        "                            values=[[0.35, 0.42],\n",
        "                                    [0.65, 0.58]],\n",
        "                            evidence=['Over_Eighty'],\n",
        "                            evidence_card=[2],\n",
        "                            state_names={'Live_With_Other_People': ['No', 'Yes'],\n",
        "                                        'Over_Eighty': ['No', 'Yes']})\n",
        "\n",
        "# has potential symptoms\n",
        "symptoms_cpd = TabularCPD(variable='Potential_Symptoms', \n",
        "                            variable_card=2, \n",
        "                            values=[[0.90, 0.40, 0.80, 0.30, 0.25, 0.08, 0.15, 0.03],\n",
        "                                    [0.10, 0.60, 0.20, 0.70, 0.75, 0.92, 0.85, 0.97]],\n",
        "                            evidence=['Lost_Taste','Cough', 'Fever'],\n",
        "                            evidence_card=[2, 2, 2],\n",
        "                            state_names={'Lost_Taste': ['No', 'Yes'],\n",
        "                                         'Cough': ['No', 'Yes'],\n",
        "                                         'Fever': ['No', 'Yes'],\n",
        "                                         'Potential_Symptoms': ['No', 'Yes']})\n",
        "\n",
        "# is positive to Covid\n",
        "positive_to_covid_cpd = TabularCPD(variable='Positive_To_Covid', \n",
        "                            variable_card=2, \n",
        "                            values=[[0.80, 0.95, 0.25, 0.7, 0.65, 0.85, 0.05, 0.75],\n",
        "                                    [0.20, 0.05, 0.75, 0.3, 0.35, 0.15, 0.95, 0.25]],\n",
        "                            evidence=['Live_With_Other_People','Potential_Symptoms','Vaccinated'],\n",
        "                            evidence_card=[2, 2, 2],\n",
        "                            state_names={'Live_With_Other_People': ['No', 'Yes'],\n",
        "                                         'Potential_Symptoms': ['No', 'Yes'],\n",
        "                                         'Vaccinated': ['No', 'Yes'],\n",
        "                                         'Positive_To_Covid': ['No', 'Yes']})"
      ],
      "execution_count": 5,
      "outputs": []
    },
    {
      "cell_type": "code",
      "metadata": {
        "colab": {
          "base_uri": "https://localhost:8080/"
        },
        "id": "XapQGzO6aoIl",
        "outputId": "72fae8a0-5d46-4f16-de40-a66b96034057"
      },
      "source": [
        "# Add the Conditional Probability Tables to the model\n",
        "model.add_cpds(lost_taste_cdp,\n",
        "               fever_cdp,\n",
        "               cough_cpd,\n",
        "               over_eighty_cpd,\n",
        "               vaccinated_cpd,\n",
        "               live_with_other_people_cpd,\n",
        "               symptoms_cpd,\n",
        "               positive_to_covid_cpd)\n",
        "model.check_model()"
      ],
      "execution_count": 6,
      "outputs": [
        {
          "output_type": "execute_result",
          "data": {
            "text/plain": [
              "True"
            ]
          },
          "metadata": {
            "tags": []
          },
          "execution_count": 6
        }
      ]
    },
    {
      "cell_type": "markdown",
      "metadata": {
        "id": "HhjUSTYM7HgT"
      },
      "source": [
        "### Viewing the Conditional Probability Tables"
      ]
    },
    {
      "cell_type": "code",
      "metadata": {
        "colab": {
          "base_uri": "https://localhost:8080/"
        },
        "id": "HSRIVrPAEajZ",
        "outputId": "acec3d0a-c12b-492a-f913-2b7a00f0aad5"
      },
      "source": [
        "# Print the Conditional Probability Tables\n",
        "print(lost_taste_cdp)\n",
        "print(fever_cdp)\n",
        "print(cough_cpd)\n",
        "print(over_eighty_cpd)\n",
        "print(vaccinated_cpd)\n",
        "print(live_with_other_people_cpd)\n",
        "print(symptoms_cpd)\n",
        "print(positive_to_covid_cpd)"
      ],
      "execution_count": 7,
      "outputs": [
        {
          "output_type": "stream",
          "text": [
            "+-----------------+-----+\n",
            "| Lost_Taste(No)  | 0.9 |\n",
            "+-----------------+-----+\n",
            "| Lost_Taste(Yes) | 0.1 |\n",
            "+-----------------+-----+\n",
            "+------------+------+\n",
            "| Fever(No)  | 0.82 |\n",
            "+------------+------+\n",
            "| Fever(Yes) | 0.18 |\n",
            "+------------+------+\n",
            "+------------+------+\n",
            "| Cough(No)  | 0.75 |\n",
            "+------------+------+\n",
            "| Cough(Yes) | 0.25 |\n",
            "+------------+------+\n",
            "+------------------+------+\n",
            "| Over_Eighty(No)  | 0.85 |\n",
            "+------------------+------+\n",
            "| Over_Eighty(Yes) | 0.15 |\n",
            "+------------------+------+\n",
            "+-----------------+-----------------+------------------+\n",
            "| Over_Eighty     | Over_Eighty(No) | Over_Eighty(Yes) |\n",
            "+-----------------+-----------------+------------------+\n",
            "| Vaccinated(No)  | 0.9             | 0.3              |\n",
            "+-----------------+-----------------+------------------+\n",
            "| Vaccinated(Yes) | 0.1             | 0.7              |\n",
            "+-----------------+-----------------+------------------+\n",
            "+-----------------------------+-----------------+------------------+\n",
            "| Over_Eighty                 | Over_Eighty(No) | Over_Eighty(Yes) |\n",
            "+-----------------------------+-----------------+------------------+\n",
            "| Live_With_Other_People(No)  | 0.35            | 0.42             |\n",
            "+-----------------------------+-----------------+------------------+\n",
            "| Live_With_Other_People(Yes) | 0.65            | 0.58             |\n",
            "+-----------------------------+-----------------+------------------+\n",
            "+-------------------------+----------------+----------------+----------------+----------------+-----------------+-----------------+-----------------+-----------------+\n",
            "| Lost_Taste              | Lost_Taste(No) | Lost_Taste(No) | Lost_Taste(No) | Lost_Taste(No) | Lost_Taste(Yes) | Lost_Taste(Yes) | Lost_Taste(Yes) | Lost_Taste(Yes) |\n",
            "+-------------------------+----------------+----------------+----------------+----------------+-----------------+-----------------+-----------------+-----------------+\n",
            "| Cough                   | Cough(No)      | Cough(No)      | Cough(Yes)     | Cough(Yes)     | Cough(No)       | Cough(No)       | Cough(Yes)      | Cough(Yes)      |\n",
            "+-------------------------+----------------+----------------+----------------+----------------+-----------------+-----------------+-----------------+-----------------+\n",
            "| Fever                   | Fever(No)      | Fever(Yes)     | Fever(No)      | Fever(Yes)     | Fever(No)       | Fever(Yes)      | Fever(No)       | Fever(Yes)      |\n",
            "+-------------------------+----------------+----------------+----------------+----------------+-----------------+-----------------+-----------------+-----------------+\n",
            "| Potential_Symptoms(No)  | 0.9            | 0.4            | 0.8            | 0.3            | 0.25            | 0.08            | 0.15            | 0.03            |\n",
            "+-------------------------+----------------+----------------+----------------+----------------+-----------------+-----------------+-----------------+-----------------+\n",
            "| Potential_Symptoms(Yes) | 0.1            | 0.6            | 0.2            | 0.7            | 0.75            | 0.92            | 0.85            | 0.97            |\n",
            "+-------------------------+----------------+----------------+----------------+----------------+-----------------+-----------------+-----------------+-----------------+\n",
            "+------------------------+----------------------------+----------------------------+----------------------------+----------------------------+-----------------------------+-----------------------------+-----------------------------+-----------------------------+\n",
            "| Live_With_Other_People | Live_With_Other_People(No) | Live_With_Other_People(No) | Live_With_Other_People(No) | Live_With_Other_People(No) | Live_With_Other_People(Yes) | Live_With_Other_People(Yes) | Live_With_Other_People(Yes) | Live_With_Other_People(Yes) |\n",
            "+------------------------+----------------------------+----------------------------+----------------------------+----------------------------+-----------------------------+-----------------------------+-----------------------------+-----------------------------+\n",
            "| Potential_Symptoms     | Potential_Symptoms(No)     | Potential_Symptoms(No)     | Potential_Symptoms(Yes)    | Potential_Symptoms(Yes)    | Potential_Symptoms(No)      | Potential_Symptoms(No)      | Potential_Symptoms(Yes)     | Potential_Symptoms(Yes)     |\n",
            "+------------------------+----------------------------+----------------------------+----------------------------+----------------------------+-----------------------------+-----------------------------+-----------------------------+-----------------------------+\n",
            "| Vaccinated             | Vaccinated(No)             | Vaccinated(Yes)            | Vaccinated(No)             | Vaccinated(Yes)            | Vaccinated(No)              | Vaccinated(Yes)             | Vaccinated(No)              | Vaccinated(Yes)             |\n",
            "+------------------------+----------------------------+----------------------------+----------------------------+----------------------------+-----------------------------+-----------------------------+-----------------------------+-----------------------------+\n",
            "| Positive_To_Covid(No)  | 0.8                        | 0.95                       | 0.25                       | 0.7                        | 0.65                        | 0.85                        | 0.05                        | 0.75                        |\n",
            "+------------------------+----------------------------+----------------------------+----------------------------+----------------------------+-----------------------------+-----------------------------+-----------------------------+-----------------------------+\n",
            "| Positive_To_Covid(Yes) | 0.2                        | 0.05                       | 0.75                       | 0.3                        | 0.35                        | 0.15                        | 0.95                        | 0.25                        |\n",
            "+------------------------+----------------------------+----------------------------+----------------------------+----------------------------+-----------------------------+-----------------------------+-----------------------------+-----------------------------+\n"
          ],
          "name": "stdout"
        }
      ]
    },
    {
      "cell_type": "markdown",
      "metadata": {
        "id": "w84QZkIw7Zyd"
      },
      "source": [
        "## Viewing Independences"
      ]
    },
    {
      "cell_type": "code",
      "metadata": {
        "colab": {
          "base_uri": "https://localhost:8080/"
        },
        "id": "OnjvwvR0bVyt",
        "outputId": "de89b8b7-3e93-4121-fc9c-0fb9df7868bd"
      },
      "source": [
        "print(model.local_independencies('Vaccinated'))\n",
        "print(model.local_independencies('Potential_Symptoms'))\n",
        "print(model.local_independencies('Positive_To_Covid'))"
      ],
      "execution_count": 8,
      "outputs": [
        {
          "output_type": "stream",
          "text": [
            "(Vaccinated _|_ Fever, Live_With_Other_People, Cough, Lost_Taste, Potential_Symptoms | Over_Eighty)\n",
            "(Potential_Symptoms _|_ Over_Eighty, Live_With_Other_People, Vaccinated | Fever, Cough, Lost_Taste)\n",
            "(Positive_To_Covid _|_ Fever, Over_Eighty, Cough, Lost_Taste | Potential_Symptoms, Live_With_Other_People, Vaccinated)\n"
          ],
          "name": "stdout"
        }
      ]
    },
    {
      "cell_type": "markdown",
      "metadata": {
        "id": "dISM3czM7xsa"
      },
      "source": [
        "## Exact Inference - Variable Elimination"
      ]
    },
    {
      "cell_type": "code",
      "metadata": {
        "colab": {
          "base_uri": "https://localhost:8080/"
        },
        "id": "6QrMZqyZiZlI",
        "outputId": "a9872eee-5227-45f7-be74-e4087fac96da"
      },
      "source": [
        "from pgmpy.inference import VariableElimination\n",
        "\n",
        "exact_inference = VariableElimination(model)\n",
        "\n",
        "# the prior probability distribution of Positive_To_Covid\n",
        "query1 = exact_inference.query(['Positive_To_Covid'])\n",
        "print('\\nP(Positive_To_Covid)\\n\\n', query1)"
      ],
      "execution_count": 9,
      "outputs": [
        {
          "output_type": "stream",
          "text": [
            "Finding Elimination Order: : 100%|██████████| 7/7 [00:00<00:00, 1964.94it/s]\n",
            "Eliminating: Vaccinated: 100%|██████████| 7/7 [00:00<00:00, 302.35it/s]"
          ],
          "name": "stderr"
        },
        {
          "output_type": "stream",
          "text": [
            "\n",
            "P(Positive_To_Covid)\n",
            "\n",
            " +------------------------+--------------------------+\n",
            "| Positive_To_Covid      |   phi(Positive_To_Covid) |\n",
            "+========================+==========================+\n",
            "| Positive_To_Covid(No)  |                   0.6010 |\n",
            "+------------------------+--------------------------+\n",
            "| Positive_To_Covid(Yes) |                   0.3990 |\n",
            "+------------------------+--------------------------+\n"
          ],
          "name": "stdout"
        },
        {
          "output_type": "stream",
          "text": [
            "\n"
          ],
          "name": "stderr"
        }
      ]
    },
    {
      "cell_type": "code",
      "metadata": {
        "colab": {
          "base_uri": "https://localhost:8080/"
        },
        "id": "Jks88u3giZlJ",
        "outputId": "1d33be3c-ff83-4aaf-b49a-a515514ef7ac"
      },
      "source": [
        "query2 = exact_inference.query(['Positive_To_Covid'],{'Potential_Symptoms':'Yes'})\n",
        "print('\\n\\nP( Positive_To_Covid | Potential_Symptoms = Yes )\\n\\n', query2)"
      ],
      "execution_count": 10,
      "outputs": [
        {
          "output_type": "stream",
          "text": [
            "Finding Elimination Order: : 100%|██████████| 6/6 [00:00<00:00, 2369.44it/s]\n",
            "Eliminating: Vaccinated: 100%|██████████| 6/6 [00:00<00:00, 414.57it/s]"
          ],
          "name": "stderr"
        },
        {
          "output_type": "stream",
          "text": [
            "\n",
            "\n",
            "P( Positive_To_Covid | Potential_Symptoms = Yes )\n",
            "\n",
            " +------------------------+--------------------------+\n",
            "| Positive_To_Covid      |   phi(Positive_To_Covid) |\n",
            "+========================+==========================+\n",
            "| Positive_To_Covid(No)  |                   0.2366 |\n",
            "+------------------------+--------------------------+\n",
            "| Positive_To_Covid(Yes) |                   0.7634 |\n",
            "+------------------------+--------------------------+\n"
          ],
          "name": "stdout"
        },
        {
          "output_type": "stream",
          "text": [
            "\n"
          ],
          "name": "stderr"
        }
      ]
    },
    {
      "cell_type": "code",
      "metadata": {
        "colab": {
          "base_uri": "https://localhost:8080/"
        },
        "id": "qYSq4SfriZlJ",
        "outputId": "62d366c5-5a41-401c-81e8-d3b0f8c6121f"
      },
      "source": [
        "query3 = exact_inference.query(['Potential_Symptoms', 'Live_With_Other_People'], {'Positive_To_Covid':'No'})\n",
        "print('\\n\\nP(Potential_Symptoms, Live_With_Other_People | Positive_To_Covid = No )\\n\\n', query3)"
      ],
      "execution_count": 11,
      "outputs": [
        {
          "output_type": "stream",
          "text": [
            "Finding Elimination Order: : 100%|██████████| 5/5 [00:00<00:00, 811.81it/s]\n",
            "Eliminating: Over_Eighty: 100%|██████████| 5/5 [00:00<00:00, 246.34it/s]"
          ],
          "name": "stderr"
        },
        {
          "output_type": "stream",
          "text": [
            "\n",
            "\n",
            "P(Potential_Symptoms, Live_With_Other_People | Positive_To_Covid = No )\n",
            "\n",
            " +-------------------------+-----------------------------+--------------------------------------------------+\n",
            "| Potential_Symptoms      | Live_With_Other_People      |   phi(Potential_Symptoms,Live_With_Other_People) |\n",
            "+=========================+=============================+==================================================+\n",
            "| Potential_Symptoms(No)  | Live_With_Other_People(No)  |                                           0.3619 |\n",
            "+-------------------------+-----------------------------+--------------------------------------------------+\n",
            "| Potential_Symptoms(No)  | Live_With_Other_People(Yes) |                                           0.5303 |\n",
            "+-------------------------+-----------------------------+--------------------------------------------------+\n",
            "| Potential_Symptoms(Yes) | Live_With_Other_People(No)  |                                           0.0562 |\n",
            "+-------------------------+-----------------------------+--------------------------------------------------+\n",
            "| Potential_Symptoms(Yes) | Live_With_Other_People(Yes) |                                           0.0516 |\n",
            "+-------------------------+-----------------------------+--------------------------------------------------+\n"
          ],
          "name": "stdout"
        },
        {
          "output_type": "stream",
          "text": [
            "\n"
          ],
          "name": "stderr"
        }
      ]
    },
    {
      "cell_type": "code",
      "metadata": {
        "colab": {
          "base_uri": "https://localhost:8080/"
        },
        "id": "gKyWxp5FiZlK",
        "outputId": "b229b9e4-08ca-4d7f-e046-e665a874019d"
      },
      "source": [
        "query4 = exact_inference.map_query(['Over_Eighty', 'Live_With_Other_People',\n",
        "                                    'Vaccinated'], {'Positive_To_Covid':'Yes'}) \n",
        "print('\\n\\nMAP of Positive_To_Covid = \\\"Yes\\\" \\n\\n', query4)"
      ],
      "execution_count": 12,
      "outputs": [
        {
          "output_type": "stream",
          "text": [
            "Finding Elimination Order: : 100%|██████████| 4/4 [00:00<00:00, 538.18it/s]\n",
            "Eliminating: Lost_Taste: 100%|██████████| 4/4 [00:00<00:00, 181.47it/s]"
          ],
          "name": "stderr"
        },
        {
          "output_type": "stream",
          "text": [
            "\n",
            "\n",
            "MAP of Positive_To_Covid = \"Yes\" \n",
            "\n",
            " {'Over_Eighty': 'No', 'Live_With_Other_People': 'Yes', 'Vaccinated': 'No'}\n"
          ],
          "name": "stdout"
        },
        {
          "output_type": "stream",
          "text": [
            "\n"
          ],
          "name": "stderr"
        }
      ]
    },
    {
      "cell_type": "markdown",
      "metadata": {
        "id": "I67alkfr7_X7"
      },
      "source": [
        "## Approximate Inference"
      ]
    },
    {
      "cell_type": "code",
      "metadata": {
        "colab": {
          "base_uri": "https://localhost:8080/"
        },
        "id": "HLSgjsPFiZlK",
        "outputId": "4649b585-2a2b-4024-c683-9231720cc49e"
      },
      "source": [
        "query = exact_inference.query(['Vaccinated'], {'Over_Eighty' : 'Yes','Positive_To_Covid' : 'No'})\n",
        "print(\"\\nP(Vaccinated | Over_Eighty = \\\"Yes\\\", Positive_To_Covid = \\\"No\\\")\\n\\n\", query)\n",
        "\n",
        "reference_prob = query.values[1]"
      ],
      "execution_count": 13,
      "outputs": [
        {
          "output_type": "stream",
          "text": [
            "Finding Elimination Order: : 100%|██████████| 5/5 [00:00<00:00, 1273.24it/s]\n",
            "Eliminating: Potential_Symptoms: 100%|██████████| 5/5 [00:00<00:00, 244.79it/s]"
          ],
          "name": "stderr"
        },
        {
          "output_type": "stream",
          "text": [
            "\n",
            "P(Vaccinated | Over_Eighty = \"Yes\", Positive_To_Covid = \"No\")\n",
            "\n",
            " +-----------------+-------------------+\n",
            "| Vaccinated      |   phi(Vaccinated) |\n",
            "+=================+===================+\n",
            "| Vaccinated(No)  |            0.2190 |\n",
            "+-----------------+-------------------+\n",
            "| Vaccinated(Yes) |            0.7810 |\n",
            "+-----------------+-------------------+\n"
          ],
          "name": "stdout"
        },
        {
          "output_type": "stream",
          "text": [
            "\n"
          ],
          "name": "stderr"
        }
      ]
    },
    {
      "cell_type": "code",
      "metadata": {
        "id": "mhaokKHXiZlL",
        "colab": {
          "base_uri": "https://localhost:8080/"
        },
        "outputId": "ba28e468-a501-4efa-8f10-c2cb0980dfc9"
      },
      "source": [
        "from pgmpy.sampling import BayesianModelSampling\n",
        "from pgmpy.factors.discrete import State\n",
        "from pgmpy.sampling import GibbsSampling\n",
        "\n",
        "BMS_inference = BayesianModelSampling(model)\n",
        "gibbs = GibbsSampling(model)\n",
        "\n",
        "def get_best_sampling_method(reference_prob, results_WL, results_RS, results_GS):\n",
        "    wl = abs(reference_prob - results_WL[-1])\n",
        "    rs = abs(reference_prob - results_RS[-1])\n",
        "    gs = abs(reference_prob - results_GS[-1])\n",
        "    if wl < rs and wl < gs:\n",
        "        print('The best method is WL with a difference wrt the reference value of: {}'.format(wl))\n",
        "    elif rs < wl and rs < gs:\n",
        "        print('The best method is RS with a difference wrt the reference value of: {}'.format(rs))\n",
        "    else:\n",
        "        print('The best method is GS with a difference wrt the reference value of: {}'.format(gs))\n",
        "\n",
        "def weighted_likelihood_prob(samples,variable):\n",
        "    return round(np.sum(np.dot(samples[variable],samples['_weight']))/np.sum(samples['_weight']),2)\n",
        "\n",
        "def gibbs_sampling(samples):\n",
        "    return (samples.query('Vaccinated == 1 & Over_Eighty == 1 & Positive_To_Covid == 0').shape[0]\n",
        "                /\n",
        "            samples.query('Over_Eighty == 1 & Positive_To_Covid == 0').shape[0])\n",
        "    \n",
        "def run(sample_size):\n",
        "    # Sample\n",
        "    samples_WL = BMS_inference.likelihood_weighted_sample(\n",
        "                      evidence = evidence, \n",
        "                      size=sample_size, \n",
        "                      return_type='recarray')\n",
        "    samples_RS = BMS_inference.rejection_sample(\n",
        "                      evidence = evidence, \n",
        "                      size=sample_size, \n",
        "                      return_type='recarray')\n",
        "    samples_GS= gibbs.sample(size = size)\n",
        "    \n",
        "    # Probability\n",
        "    results_WL = weighted_likelihood_prob(samples_WL,'Vaccinated')\n",
        "    results_RS = np.recarray.mean(samples_RS['Vaccinated'], axis=0)\n",
        "    results_GS = gibbs_sampling(samples_GS)\n",
        "    \n",
        "    # Return results\n",
        "    return np.array([(sample_size, \n",
        "                      results_WL,\n",
        "                      results_RS,\n",
        "                      results_GS)], \n",
        "                    dtype=[('sample_size', '<i8'), \n",
        "                           ('WL', '<f8'),\n",
        "                           ('RS', '<f8'),\n",
        "                           ('GS', '<f8')])\n",
        "\n",
        "approximate_results = np.array([], dtype=[('sample_size', '<i8'), \n",
        "                           ('WL', '<f8'),\n",
        "                           ('RS', '<f8'),\n",
        "                           ('GS', '<f8')])\n",
        "initial_size = 2\n",
        "final_size = 5\n",
        "num = 10\n",
        "evidence = [State('Over_Eighty', 'Yes'), State('Positive_To_Covid', 'No')]\n",
        "\n",
        "for size in np.logspace(initial_size, final_size, num=num, dtype='<i8'):\n",
        "    approximate_results=np.append(approximate_results, run(size))\n",
        "    \n",
        "sizes = approximate_results['sample_size']\n",
        "results_WL = approximate_results['WL']\n",
        "results_RS = approximate_results['RS']\n",
        "results_GS = approximate_results['GS']"
      ],
      "execution_count": 14,
      "outputs": [
        {
          "output_type": "stream",
          "text": [
            "/usr/local/lib/python3.7/dist-packages/pgmpy/factors/discrete/DiscreteFactor.py:519: UserWarning: Found unknown state name. Trying to switch to using all state names as state numbers\n",
            "  \"Found unknown state name. Trying to switch to using all state names as state numbers\"\n",
            "  0%|          | 0/100 [00:00<?, ?it/s]\n",
            "  0%|          | 0/8 [00:00<?, ?it/s]\u001b[A\n",
            "Generating for node: Over_Eighty:   0%|          | 0/8 [00:00<?, ?it/s]\u001b[A\n",
            "Generating for node: Live_With_Other_People:   0%|          | 0/8 [00:00<?, ?it/s]\u001b[A\n",
            "Generating for node: Vaccinated:   0%|          | 0/8 [00:00<?, ?it/s]            \u001b[A\n",
            "Generating for node: Lost_Taste:   0%|          | 0/8 [00:00<?, ?it/s]\u001b[A\n",
            "Generating for node: Fever:   0%|          | 0/8 [00:00<?, ?it/s]     \u001b[A\n",
            "Generating for node: Cough:   0%|          | 0/8 [00:00<?, ?it/s]\u001b[A\n",
            "Generating for node: Potential_Symptoms:   0%|          | 0/8 [00:00<?, ?it/s]\u001b[A\n",
            "Generating for node: Positive_To_Covid: 100%|██████████| 8/8 [00:00<00:00, 207.46it/s]\n",
            "\n",
            "  0%|          | 0/8 [00:00<?, ?it/s]\u001b[A\n",
            "Generating for node: Over_Eighty:   0%|          | 0/8 [00:00<?, ?it/s]\u001b[A\n",
            "Generating for node: Live_With_Other_People:   0%|          | 0/8 [00:00<?, ?it/s]\u001b[A\n",
            "Generating for node: Vaccinated:   0%|          | 0/8 [00:00<?, ?it/s]            \u001b[A\n",
            "Generating for node: Lost_Taste:   0%|          | 0/8 [00:00<?, ?it/s]\u001b[A\n",
            "Generating for node: Fever:   0%|          | 0/8 [00:00<?, ?it/s]     \u001b[A\n",
            "Generating for node: Cough:   0%|          | 0/8 [00:00<?, ?it/s]\u001b[A\n",
            "Generating for node: Potential_Symptoms:   0%|          | 0/8 [00:00<?, ?it/s]\u001b[A\n",
            "Generating for node: Positive_To_Covid: 100%|██████████| 8/8 [00:00<00:00, 105.03it/s]\n",
            "160it [00:00, 1108.90it/s]\n",
            "100%|██████████| 99/99 [00:00<00:00, 1014.48it/s]\n",
            "  0%|          | 0/215 [00:00<?, ?it/s]\n",
            "  0%|          | 0/8 [00:00<?, ?it/s]\u001b[A\n",
            "Generating for node: Over_Eighty:   0%|          | 0/8 [00:00<?, ?it/s]\u001b[A\n",
            "Generating for node: Live_With_Other_People:   0%|          | 0/8 [00:00<?, ?it/s]\u001b[A\n",
            "Generating for node: Vaccinated:   0%|          | 0/8 [00:00<?, ?it/s]            \u001b[A\n",
            "Generating for node: Lost_Taste:   0%|          | 0/8 [00:00<?, ?it/s]\u001b[A\n",
            "Generating for node: Fever:   0%|          | 0/8 [00:00<?, ?it/s]     \u001b[A\n",
            "Generating for node: Cough:   0%|          | 0/8 [00:00<?, ?it/s]\u001b[A\n",
            "Generating for node: Potential_Symptoms:   0%|          | 0/8 [00:00<?, ?it/s]\u001b[A\n",
            "Generating for node: Positive_To_Covid: 100%|██████████| 8/8 [00:00<00:00, 130.24it/s]\n",
            "\n",
            "  0%|          | 0/8 [00:00<?, ?it/s]\u001b[A\n",
            "Generating for node: Over_Eighty:   0%|          | 0/8 [00:00<?, ?it/s]\u001b[A\n",
            "Generating for node: Live_With_Other_People:   0%|          | 0/8 [00:00<?, ?it/s]\u001b[A\n",
            "Generating for node: Vaccinated:   0%|          | 0/8 [00:00<?, ?it/s]            \u001b[A\n",
            "Generating for node: Lost_Taste:   0%|          | 0/8 [00:00<?, ?it/s]\u001b[A\n",
            "Generating for node: Fever:   0%|          | 0/8 [00:00<?, ?it/s]     \u001b[A\n",
            "Generating for node: Cough:   0%|          | 0/8 [00:00<?, ?it/s]\u001b[A\n",
            "Generating for node: Potential_Symptoms:   0%|          | 0/8 [00:00<?, ?it/s]\u001b[A\n",
            "Generating for node: Potential_Symptoms:  88%|████████▊ | 7/8 [00:00<00:00, 61.08it/s]\u001b[A\n",
            "Generating for node: Positive_To_Covid: 100%|██████████| 8/8 [00:00<00:00, 55.99it/s]\n",
            "284it [00:00, 1274.52it/s]\n",
            "100%|██████████| 214/214 [00:00<00:00, 1473.89it/s]\n",
            "  0%|          | 0/464 [00:00<?, ?it/s]\n",
            "  0%|          | 0/8 [00:00<?, ?it/s]\u001b[A\n",
            "Generating for node: Over_Eighty:   0%|          | 0/8 [00:00<?, ?it/s]\u001b[A\n",
            "Generating for node: Live_With_Other_People:   0%|          | 0/8 [00:00<?, ?it/s]\u001b[A\n",
            "Generating for node: Vaccinated:   0%|          | 0/8 [00:00<?, ?it/s]            \u001b[A\n",
            "Generating for node: Lost_Taste:   0%|          | 0/8 [00:00<?, ?it/s]\u001b[A\n",
            "Generating for node: Fever:   0%|          | 0/8 [00:00<?, ?it/s]     \u001b[A\n",
            "Generating for node: Cough:   0%|          | 0/8 [00:00<?, ?it/s]\u001b[A\n",
            "Generating for node: Potential_Symptoms:   0%|          | 0/8 [00:00<?, ?it/s]\u001b[A\n",
            "Generating for node: Positive_To_Covid: 100%|██████████| 8/8 [00:00<00:00, 109.97it/s]\n",
            "\n",
            "  0%|          | 0/8 [00:00<?, ?it/s]\u001b[A\n",
            "Generating for node: Over_Eighty:   0%|          | 0/8 [00:00<?, ?it/s]\u001b[A\n",
            "Generating for node: Live_With_Other_People:   0%|          | 0/8 [00:00<?, ?it/s]\u001b[A\n",
            "Generating for node: Vaccinated:   0%|          | 0/8 [00:00<?, ?it/s]            \u001b[A\n",
            "Generating for node: Lost_Taste:   0%|          | 0/8 [00:00<?, ?it/s]\u001b[A\n",
            "Generating for node: Fever:   0%|          | 0/8 [00:00<?, ?it/s]     \u001b[A\n",
            "Generating for node: Cough:   0%|          | 0/8 [00:00<?, ?it/s]\u001b[A\n",
            "Generating for node: Potential_Symptoms:   0%|          | 0/8 [00:00<?, ?it/s]\u001b[A\n",
            "Generating for node: Potential_Symptoms:  88%|████████▊ | 7/8 [00:00<00:00, 52.67it/s]\u001b[A\n",
            "Generating for node: Positive_To_Covid: 100%|██████████| 8/8 [00:00<00:00, 45.92it/s]\n",
            "511it [00:00, 1954.60it/s]\n",
            "100%|██████████| 463/463 [00:00<00:00, 1852.92it/s]\n",
            "  0%|          | 0/1000 [00:00<?, ?it/s]\n",
            "  0%|          | 0/8 [00:00<?, ?it/s]\u001b[A\n",
            "Generating for node: Over_Eighty:   0%|          | 0/8 [00:00<?, ?it/s]\u001b[A\n",
            "Generating for node: Live_With_Other_People:   0%|          | 0/8 [00:00<?, ?it/s]\u001b[A\n",
            "Generating for node: Vaccinated:   0%|          | 0/8 [00:00<?, ?it/s]            \u001b[A\n",
            "Generating for node: Lost_Taste:   0%|          | 0/8 [00:00<?, ?it/s]\u001b[A\n",
            "Generating for node: Fever:   0%|          | 0/8 [00:00<?, ?it/s]     \u001b[A\n",
            "Generating for node: Cough:   0%|          | 0/8 [00:00<?, ?it/s]\u001b[A\n",
            "Generating for node: Potential_Symptoms:   0%|          | 0/8 [00:00<?, ?it/s]\u001b[A\n",
            "Generating for node: Positive_To_Covid: 100%|██████████| 8/8 [00:00<00:00, 109.07it/s]\n",
            "\n",
            "  0%|          | 0/8 [00:00<?, ?it/s]\u001b[A\n",
            "Generating for node: Over_Eighty:   0%|          | 0/8 [00:00<?, ?it/s]\u001b[A\n",
            "Generating for node: Live_With_Other_People:   0%|          | 0/8 [00:00<?, ?it/s]\u001b[A\n",
            "Generating for node: Vaccinated:   0%|          | 0/8 [00:00<?, ?it/s]            \u001b[A\n",
            "Generating for node: Vaccinated:  38%|███▊      | 3/8 [00:00<00:00, 20.72it/s]\u001b[A\n",
            "Generating for node: Lost_Taste:  38%|███▊      | 3/8 [00:00<00:00, 20.72it/s]\u001b[A\n",
            "Generating for node: Fever:  38%|███▊      | 3/8 [00:00<00:00, 20.72it/s]     \u001b[A\n",
            "Generating for node: Cough:  38%|███▊      | 3/8 [00:00<00:00, 20.72it/s]\u001b[A\n",
            "Generating for node: Potential_Symptoms:  38%|███▊      | 3/8 [00:00<00:00, 20.72it/s]\u001b[A\n",
            "Generating for node: Positive_To_Covid:  38%|███▊      | 3/8 [00:00<00:00, 20.72it/s] \u001b[A\n",
            "Generating for node: Positive_To_Covid: 100%|██████████| 8/8 [00:00<00:00, 26.56it/s]\n",
            "1390it [00:00, 3534.66it/s]\n",
            "100%|██████████| 999/999 [00:00<00:00, 1889.45it/s]\n",
            "  0%|          | 0/2154 [00:00<?, ?it/s]\n",
            "  0%|          | 0/8 [00:00<?, ?it/s]\u001b[A\n",
            "Generating for node: Over_Eighty:   0%|          | 0/8 [00:00<?, ?it/s]\u001b[A\n",
            "Generating for node: Live_With_Other_People:   0%|          | 0/8 [00:00<?, ?it/s]\u001b[A\n",
            "Generating for node: Vaccinated:   0%|          | 0/8 [00:00<?, ?it/s]            \u001b[A\n",
            "Generating for node: Lost_Taste:   0%|          | 0/8 [00:00<?, ?it/s]\u001b[A\n",
            "Generating for node: Fever:   0%|          | 0/8 [00:00<?, ?it/s]     \u001b[A\n",
            "Generating for node: Cough:   0%|          | 0/8 [00:00<?, ?it/s]\u001b[A\n",
            "Generating for node: Potential_Symptoms:   0%|          | 0/8 [00:00<?, ?it/s]\u001b[A\n",
            "Generating for node: Potential_Symptoms:  88%|████████▊ | 7/8 [00:00<00:00, 68.08it/s]\u001b[A\n",
            "Generating for node: Positive_To_Covid: 100%|██████████| 8/8 [00:00<00:00, 58.17it/s]\n",
            " 18%|█▊        | 383/2154 [00:00<00:00, 2620.19it/s]\n",
            "  0%|          | 0/8 [00:00<?, ?it/s]\u001b[A\n",
            "Generating for node: Over_Eighty:   0%|          | 0/8 [00:00<?, ?it/s]\u001b[A\n",
            "Generating for node: Live_With_Other_People:   0%|          | 0/8 [00:00<?, ?it/s]\u001b[A\n",
            "Generating for node: Live_With_Other_People:  25%|██▌       | 2/8 [00:00<00:00, 16.05it/s]\u001b[A\n",
            "Generating for node: Vaccinated:  25%|██▌       | 2/8 [00:00<00:00, 16.05it/s]            \u001b[A\n",
            "Generating for node: Vaccinated:  38%|███▊      | 3/8 [00:00<00:00, 13.37it/s]\u001b[A\n",
            "Generating for node: Lost_Taste:  38%|███▊      | 3/8 [00:00<00:00, 13.37it/s]\u001b[A\n",
            "Generating for node: Fever:  38%|███▊      | 3/8 [00:00<00:00, 13.37it/s]     \u001b[A\n",
            "Generating for node: Cough:  38%|███▊      | 3/8 [00:00<00:00, 13.37it/s]\u001b[A\n",
            "Generating for node: Potential_Symptoms:  38%|███▊      | 3/8 [00:00<00:00, 13.37it/s]\u001b[A\n",
            "Generating for node: Potential_Symptoms:  88%|████████▊ | 7/8 [00:00<00:00, 15.72it/s]\u001b[A\n",
            "Generating for node: Positive_To_Covid: 100%|██████████| 8/8 [00:00<00:00, 15.73it/s]\n",
            "2910it [00:00, 4374.73it/s]\n",
            "100%|██████████| 2153/2153 [00:01<00:00, 1964.17it/s]\n",
            "  0%|          | 0/4641 [00:00<?, ?it/s]\n",
            "  0%|          | 0/8 [00:00<?, ?it/s]\u001b[A\n",
            "Generating for node: Over_Eighty:   0%|          | 0/8 [00:00<?, ?it/s]\u001b[A\n",
            "Generating for node: Live_With_Other_People:   0%|          | 0/8 [00:00<?, ?it/s]\u001b[A\n",
            "Generating for node: Vaccinated:   0%|          | 0/8 [00:00<?, ?it/s]            \u001b[A\n",
            "Generating for node: Lost_Taste:   0%|          | 0/8 [00:00<?, ?it/s]\u001b[A\n",
            "Generating for node: Fever:   0%|          | 0/8 [00:00<?, ?it/s]     \u001b[A\n",
            "Generating for node: Cough:   0%|          | 0/8 [00:00<?, ?it/s]\u001b[A\n",
            "Generating for node: Potential_Symptoms:   0%|          | 0/8 [00:00<?, ?it/s]\u001b[A\n",
            "Generating for node: Potential_Symptoms:  88%|████████▊ | 7/8 [00:00<00:00, 49.27it/s]\u001b[A\n",
            "Generating for node: Positive_To_Covid: 100%|██████████| 8/8 [00:00<00:00, 39.59it/s]\n",
            " 17%|█▋        | 790/4641 [00:00<00:01, 3799.57it/s]\n",
            "  0%|          | 0/8 [00:00<?, ?it/s]\u001b[A\n",
            "Generating for node: Over_Eighty:   0%|          | 0/8 [00:00<?, ?it/s]\u001b[A\n",
            "Generating for node: Live_With_Other_People:   0%|          | 0/8 [00:00<?, ?it/s]\u001b[A\n",
            "Generating for node: Live_With_Other_People:  25%|██▌       | 2/8 [00:00<00:00,  8.89it/s]\u001b[A\n",
            "Generating for node: Vaccinated:  25%|██▌       | 2/8 [00:00<00:00,  8.89it/s]            \u001b[A\n",
            "Generating for node: Vaccinated:  38%|███▊      | 3/8 [00:00<00:00,  7.02it/s]\u001b[A\n",
            "Generating for node: Lost_Taste:  38%|███▊      | 3/8 [00:00<00:00,  7.02it/s]\u001b[A\n",
            "Generating for node: Fever:  38%|███▊      | 3/8 [00:00<00:00,  7.02it/s]     \u001b[A\n",
            "Generating for node: Cough:  38%|███▊      | 3/8 [00:00<00:00,  7.02it/s]\u001b[A\n",
            "Generating for node: Potential_Symptoms:  38%|███▊      | 3/8 [00:00<00:00,  7.02it/s]\u001b[A\n",
            "Generating for node: Potential_Symptoms:  88%|████████▊ | 7/8 [00:00<00:00,  8.19it/s]\u001b[A\n",
            "Generating for node: Positive_To_Covid:  88%|████████▊ | 7/8 [00:00<00:00,  8.19it/s] \u001b[A\n",
            "Generating for node: Positive_To_Covid: 100%|██████████| 8/8 [00:00<00:00,  8.05it/s]\n",
            "6440it [00:01, 5311.90it/s]\n",
            "100%|██████████| 4640/4640 [00:02<00:00, 1987.82it/s]\n",
            "  0%|          | 0/10000 [00:00<?, ?it/s]\n",
            "  0%|          | 0/8 [00:00<?, ?it/s]\u001b[A\n",
            "Generating for node: Over_Eighty:   0%|          | 0/8 [00:00<?, ?it/s]\u001b[A\n",
            "Generating for node: Live_With_Other_People:   0%|          | 0/8 [00:00<?, ?it/s]\u001b[A\n",
            "Generating for node: Vaccinated:   0%|          | 0/8 [00:00<?, ?it/s]            \u001b[A\n",
            "Generating for node: Vaccinated:  38%|███▊      | 3/8 [00:00<00:00, 22.18it/s]\u001b[A\n",
            "Generating for node: Lost_Taste:  38%|███▊      | 3/8 [00:00<00:00, 22.18it/s]\u001b[A\n",
            "Generating for node: Fever:  38%|███▊      | 3/8 [00:00<00:00, 22.18it/s]     \u001b[A\n",
            "Generating for node: Cough:  38%|███▊      | 3/8 [00:00<00:00, 22.18it/s]\u001b[A\n",
            "Generating for node: Potential_Symptoms:  38%|███▊      | 3/8 [00:00<00:00, 22.18it/s]\u001b[A\n",
            "Generating for node: Potential_Symptoms:  88%|████████▊ | 7/8 [00:00<00:00, 24.88it/s]\u001b[A\n",
            "Generating for node: Positive_To_Covid: 100%|██████████| 8/8 [00:00<00:00, 23.09it/s]\n",
            " 17%|█▋        | 1733/10000 [00:00<00:01, 4896.43it/s]\n",
            "  0%|          | 0/8 [00:00<?, ?it/s]\u001b[A\n",
            "Generating for node: Over_Eighty:   0%|          | 0/8 [00:00<?, ?it/s]\u001b[A\n",
            "Generating for node: Live_With_Other_People:   0%|          | 0/8 [00:00<?, ?it/s]\u001b[A\n",
            "Generating for node: Live_With_Other_People:  25%|██▌       | 2/8 [00:00<00:01,  4.65it/s]\u001b[A\n",
            "Generating for node: Vaccinated:  25%|██▌       | 2/8 [00:00<00:01,  4.65it/s]            \u001b[A\n",
            "Generating for node: Vaccinated:  38%|███▊      | 3/8 [00:00<00:01,  3.60it/s]\u001b[A\n",
            "Generating for node: Lost_Taste:  38%|███▊      | 3/8 [00:00<00:01,  3.60it/s]\u001b[A\n",
            "Generating for node: Fever:  38%|███▊      | 3/8 [00:00<00:01,  3.60it/s]     \u001b[A\n",
            "Generating for node: Cough:  38%|███▊      | 3/8 [00:00<00:01,  3.60it/s]\u001b[A\n",
            "Generating for node: Potential_Symptoms:  38%|███▊      | 3/8 [00:00<00:01,  3.60it/s]\u001b[A\n",
            "Generating for node: Potential_Symptoms:  88%|████████▊ | 7/8 [00:01<00:00,  4.23it/s]\u001b[A\n",
            "Generating for node: Positive_To_Covid:  88%|████████▊ | 7/8 [00:01<00:00,  4.23it/s] \u001b[A\n",
            "Generating for node: Positive_To_Covid: 100%|██████████| 8/8 [00:01<00:00,  4.11it/s]\n",
            "13911it [00:02, 6022.64it/s]\n",
            "100%|██████████| 9999/9999 [00:05<00:00, 1977.83it/s]\n",
            "  0%|          | 0/21544 [00:00<?, ?it/s]\n",
            "  0%|          | 0/8 [00:00<?, ?it/s]\u001b[A\n",
            "Generating for node: Over_Eighty:   0%|          | 0/8 [00:00<?, ?it/s]\u001b[A\n",
            "Generating for node: Live_With_Other_People:   0%|          | 0/8 [00:00<?, ?it/s]\u001b[A\n",
            "Generating for node: Live_With_Other_People:  25%|██▌       | 2/8 [00:00<00:00, 14.22it/s]\u001b[A\n",
            "Generating for node: Vaccinated:  25%|██▌       | 2/8 [00:00<00:00, 14.22it/s]            \u001b[A\n",
            "Generating for node: Vaccinated:  38%|███▊      | 3/8 [00:00<00:00, 11.27it/s]\u001b[A\n",
            "Generating for node: Lost_Taste:  38%|███▊      | 3/8 [00:00<00:00, 11.27it/s]\u001b[A\n",
            "Generating for node: Fever:  38%|███▊      | 3/8 [00:00<00:00, 11.27it/s]     \u001b[A\n",
            "Generating for node: Cough:  38%|███▊      | 3/8 [00:00<00:00, 11.27it/s]\u001b[A\n",
            "Generating for node: Potential_Symptoms:  38%|███▊      | 3/8 [00:00<00:00, 11.27it/s]\u001b[A\n",
            "Generating for node: Potential_Symptoms:  88%|████████▊ | 7/8 [00:00<00:00, 13.05it/s]\u001b[A\n",
            "Generating for node: Positive_To_Covid:  88%|████████▊ | 7/8 [00:00<00:00, 13.05it/s] \u001b[A\n",
            "Generating for node: Positive_To_Covid: 100%|██████████| 8/8 [00:00<00:00, 12.71it/s]\n",
            " 17%|█▋        | 3672/21544 [00:00<00:03, 5783.70it/s]\n",
            "  0%|          | 0/8 [00:00<?, ?it/s]\u001b[A\n",
            "Generating for node: Over_Eighty:   0%|          | 0/8 [00:00<?, ?it/s]\u001b[A\n",
            "Generating for node: Live_With_Other_People:   0%|          | 0/8 [00:00<?, ?it/s]\u001b[A\n",
            "Generating for node: Live_With_Other_People:  25%|██▌       | 2/8 [00:00<00:02,  2.16it/s]\u001b[A\n",
            "Generating for node: Vaccinated:  25%|██▌       | 2/8 [00:00<00:02,  2.16it/s]            \u001b[A\n",
            "Generating for node: Vaccinated:  38%|███▊      | 3/8 [00:01<00:02,  1.68it/s]\u001b[A\n",
            "Generating for node: Lost_Taste:  38%|███▊      | 3/8 [00:01<00:02,  1.68it/s]\u001b[A\n",
            "Generating for node: Fever:  38%|███▊      | 3/8 [00:01<00:02,  1.68it/s]     \u001b[A\n",
            "Generating for node: Cough:  38%|███▊      | 3/8 [00:01<00:02,  1.68it/s]\u001b[A\n",
            "Generating for node: Potential_Symptoms:  38%|███▊      | 3/8 [00:01<00:02,  1.68it/s]\u001b[A\n",
            "Generating for node: Potential_Symptoms:  88%|████████▊ | 7/8 [00:03<00:00,  1.97it/s]\u001b[A\n",
            "Generating for node: Positive_To_Covid:  88%|████████▊ | 7/8 [00:03<00:00,  1.97it/s] \u001b[A\n",
            "Generating for node: Positive_To_Covid: 100%|██████████| 8/8 [00:04<00:00,  1.92it/s]\n",
            "30511it [00:04, 6312.95it/s]\n",
            "100%|██████████| 21543/21543 [00:11<00:00, 1938.24it/s]\n",
            "  0%|          | 0/46415 [00:00<?, ?it/s]\n",
            "  0%|          | 0/8 [00:00<?, ?it/s]\u001b[A\n",
            "Generating for node: Over_Eighty:   0%|          | 0/8 [00:00<?, ?it/s]\u001b[A\n",
            "Generating for node: Live_With_Other_People:   0%|          | 0/8 [00:00<?, ?it/s]\u001b[A\n",
            "Generating for node: Live_With_Other_People:  25%|██▌       | 2/8 [00:00<00:00,  7.09it/s]\u001b[A\n",
            "Generating for node: Vaccinated:  25%|██▌       | 2/8 [00:00<00:00,  7.09it/s]            \u001b[A\n",
            "Generating for node: Vaccinated:  38%|███▊      | 3/8 [00:00<00:00,  5.49it/s]\u001b[A\n",
            "Generating for node: Lost_Taste:  38%|███▊      | 3/8 [00:00<00:00,  5.49it/s]\u001b[A\n",
            "Generating for node: Fever:  38%|███▊      | 3/8 [00:00<00:00,  5.49it/s]     \u001b[A\n",
            "Generating for node: Cough:  38%|███▊      | 3/8 [00:00<00:00,  5.49it/s]\u001b[A\n",
            "Generating for node: Potential_Symptoms:  38%|███▊      | 3/8 [00:00<00:00,  5.49it/s]\u001b[A\n",
            "Generating for node: Potential_Symptoms:  88%|████████▊ | 7/8 [00:00<00:00,  6.39it/s]\u001b[A\n",
            "Generating for node: Positive_To_Covid:  88%|████████▊ | 7/8 [00:00<00:00,  6.39it/s] \u001b[A\n",
            "Generating for node: Positive_To_Covid: 100%|██████████| 8/8 [00:01<00:00,  6.07it/s]\n",
            " 17%|█▋        | 8067/46415 [00:01<00:06, 6084.08it/s]\n",
            "  0%|          | 0/8 [00:00<?, ?it/s]\u001b[A\n",
            "Generating for node: Over_Eighty:   0%|          | 0/8 [00:00<?, ?it/s]\u001b[A\n",
            "Generating for node: Live_With_Other_People:   0%|          | 0/8 [00:00<?, ?it/s]\u001b[A\n",
            "Generating for node: Live_With_Other_People:  25%|██▌       | 2/8 [00:01<00:05,  1.05it/s]\u001b[A\n",
            "Generating for node: Vaccinated:  25%|██▌       | 2/8 [00:01<00:05,  1.05it/s]            \u001b[A\n",
            "Generating for node: Vaccinated:  38%|███▊      | 3/8 [00:03<00:06,  1.24s/it]\u001b[A\n",
            "Generating for node: Lost_Taste:  38%|███▊      | 3/8 [00:03<00:06,  1.24s/it]\u001b[A\n",
            "Generating for node: Fever:  38%|███▊      | 3/8 [00:03<00:06,  1.24s/it]     \u001b[A\n",
            "Generating for node: Cough:  38%|███▊      | 3/8 [00:03<00:06,  1.24s/it]\u001b[A\n",
            "Generating for node: Potential_Symptoms:  38%|███▊      | 3/8 [00:03<00:06,  1.24s/it]\u001b[A\n",
            "Generating for node: Potential_Symptoms:  88%|████████▊ | 7/8 [00:06<00:01,  1.06s/it]\u001b[A\n",
            "Generating for node: Positive_To_Covid:  88%|████████▊ | 7/8 [00:06<00:01,  1.06s/it] \u001b[A\n",
            "Generating for node: Positive_To_Covid: 100%|██████████| 8/8 [00:08<00:00,  1.09s/it]\n",
            "64117it [00:10, 6347.50it/s]\n",
            "100%|██████████| 46414/46414 [00:23<00:00, 1943.51it/s]\n",
            "  0%|          | 0/100000 [00:00<?, ?it/s]\n",
            "  0%|          | 0/8 [00:00<?, ?it/s]\u001b[A\n",
            "Generating for node: Over_Eighty:   0%|          | 0/8 [00:00<?, ?it/s]\u001b[A\n",
            "Generating for node: Live_With_Other_People:   0%|          | 0/8 [00:00<?, ?it/s]\u001b[A\n",
            "Generating for node: Live_With_Other_People:  25%|██▌       | 2/8 [00:00<00:01,  3.49it/s]\u001b[A\n",
            "Generating for node: Vaccinated:  25%|██▌       | 2/8 [00:00<00:01,  3.49it/s]            \u001b[A\n",
            "Generating for node: Vaccinated:  38%|███▊      | 3/8 [00:01<00:01,  2.71it/s]\u001b[A\n",
            "Generating for node: Lost_Taste:  38%|███▊      | 3/8 [00:01<00:01,  2.71it/s]\u001b[A\n",
            "Generating for node: Fever:  38%|███▊      | 3/8 [00:01<00:01,  2.71it/s]     \u001b[A\n",
            "Generating for node: Cough:  38%|███▊      | 3/8 [00:01<00:01,  2.71it/s]\u001b[A\n",
            "Generating for node: Potential_Symptoms:  38%|███▊      | 3/8 [00:01<00:01,  2.71it/s]\u001b[A\n",
            "Generating for node: Potential_Symptoms:  88%|████████▊ | 7/8 [00:01<00:00,  3.14it/s]\u001b[A\n",
            "Generating for node: Positive_To_Covid:  88%|████████▊ | 7/8 [00:01<00:00,  3.14it/s] \u001b[A\n",
            "Generating for node: Positive_To_Covid: 100%|██████████| 8/8 [00:02<00:00,  2.99it/s]\n",
            " 17%|█▋        | 17104/100000 [00:02<00:13, 6375.22it/s]\n",
            "  0%|          | 0/8 [00:00<?, ?it/s]\u001b[A\n",
            "Generating for node: Over_Eighty:   0%|          | 0/8 [00:00<?, ?it/s]\u001b[A\n",
            "Generating for node: Live_With_Other_People:   0%|          | 0/8 [00:00<?, ?it/s]\u001b[A\n",
            "Generating for node: Live_With_Other_People:  25%|██▌       | 2/8 [00:04<00:12,  2.11s/it]\u001b[A\n",
            "Generating for node: Vaccinated:  25%|██▌       | 2/8 [00:04<00:12,  2.11s/it]            \u001b[A\n",
            "Generating for node: Vaccinated:  38%|███▊      | 3/8 [00:08<00:13,  2.75s/it]\u001b[A\n",
            "Generating for node: Lost_Taste:  38%|███▊      | 3/8 [00:08<00:13,  2.75s/it]\u001b[A\n",
            "Generating for node: Fever:  38%|███▊      | 3/8 [00:08<00:13,  2.75s/it]     \u001b[A\n",
            "Generating for node: Fever:  62%|██████▎   | 5/8 [00:08<00:05,  1.94s/it]\u001b[A\n",
            "Generating for node: Cough:  62%|██████▎   | 5/8 [00:08<00:05,  1.94s/it]\u001b[A\n",
            "Generating for node: Potential_Symptoms:  62%|██████▎   | 5/8 [00:08<00:05,  1.94s/it]\u001b[A\n",
            "Generating for node: Potential_Symptoms:  88%|████████▊ | 7/8 [00:13<00:02,  2.15s/it]\u001b[A\n",
            " 17%|█▋        | 17104/100000 [00:21<00:13, 6375.22it/s]\n",
            "Generating for node: Positive_To_Covid: 100%|██████████| 8/8 [00:19<00:00,  2.40s/it]\n",
            "141850it [00:21, 6458.86it/s]\n",
            "100%|██████████| 99999/99999 [00:51<00:00, 1936.82it/s]\n"
          ],
          "name": "stderr"
        }
      ]
    },
    {
      "cell_type": "code",
      "metadata": {
        "id": "bm5aG1RIiZlN",
        "colab": {
          "base_uri": "https://localhost:8080/"
        },
        "outputId": "bed86d39-c476-490c-b410-5eb31436d606"
      },
      "source": [
        "get_best_sampling_method(reference_prob, results_WL, results_RS, results_GS)"
      ],
      "execution_count": 15,
      "outputs": [
        {
          "output_type": "stream",
          "text": [
            "The best method is RS with a difference wrt the reference value of: 0.0005114578933910208\n"
          ],
          "name": "stdout"
        }
      ]
    },
    {
      "cell_type": "code",
      "metadata": {
        "id": "w0RmfVuNnEdB",
        "colab": {
          "base_uri": "https://localhost:8080/"
        },
        "outputId": "b8ba210f-0d37-4454-e152-f3a7dc000c05"
      },
      "source": [
        "print(approximate_results)"
      ],
      "execution_count": 16,
      "outputs": [
        {
          "output_type": "stream",
          "text": [
            "[(   100, 0.76, 0.86      , 0.5       )\n",
            " (   215, 0.8 , 0.78139535, 0.81818182)\n",
            " (   464, 0.8 , 0.78448276, 0.8       )\n",
            " (  1000, 0.78, 0.784     , 0.75510204)\n",
            " (  2154, 0.78, 0.77390901, 0.77366255)\n",
            " (  4641, 0.78, 0.79013144, 0.78324226)\n",
            " ( 10000, 0.79, 0.7798    , 0.76244131)\n",
            " ( 21544, 0.78, 0.77831415, 0.77992278)\n",
            " ( 46415, 0.78, 0.78009264, 0.79286896)\n",
            " (100000, 0.78, 0.78048   , 0.78334366)]\n"
          ],
          "name": "stdout"
        }
      ]
    },
    {
      "cell_type": "code",
      "metadata": {
        "id": "wv6Q3hw55cT4",
        "colab": {
          "base_uri": "https://localhost:8080/",
          "height": 662
        },
        "outputId": "05b2aea5-e2a3-4127-9651-c304bfeef3be"
      },
      "source": [
        "# Compare the results\n",
        "\n",
        "plt.figure(figsize=(10,10))\n",
        "plt.grid(True)\n",
        "plt.title('\\nP(Vaccinated | Over_Eighty = \"Yes\", Positive_To_Covid = \"No\")\\n')\n",
        "plt.xlabel(\"# samples (log scale)\")\n",
        "\n",
        "sizes = approximate_results['sample_size']\n",
        "\n",
        "plot_WL, = plt.semilogx(sizes, results_WL, 'yo--', label=\"WL\")\n",
        "plot_RS, = plt.semilogx(sizes, results_RS, 'bo--', label=\"RS\")\n",
        "plot_GS,= plt.semilogx(sizes, results_GS, 'go--', label=\"GS\")\n",
        "plot_VE,= plt.semilogx(sizes, reference_prob*np.ones(len(sizes)),'r', label=\"Variable Elimination\\n(Exact Inference)\")\n",
        "\n",
        "plt.legend(handles=[plot_WL, plot_RS, plot_GS, plot_VE])\n",
        "plt.show()"
      ],
      "execution_count": 17,
      "outputs": [
        {
          "output_type": "display_data",
          "data": {
            "image/png": "[encoded data removed]",
            "text/plain": [
              "<Figure size 720x720 with 1 Axes>"
            ]
          },
          "metadata": {
            "tags": []
          }
        }
      ]
    },
    {
      "cell_type": "code",
      "metadata": {
        "id": "Chb00I2w5fPu"
      },
      "source": [
        ""
      ],
      "execution_count": 17,
      "outputs": []
    }
  ]
}